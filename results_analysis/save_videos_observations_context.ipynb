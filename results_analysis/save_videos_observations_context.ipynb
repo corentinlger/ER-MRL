{
 "cells": [
  {
   "cell_type": "code",
   "execution_count": 2,
   "id": "4fc20b74",
   "metadata": {},
   "outputs": [],
   "source": [
    "import os\n",
    "import time\n",
    "import datetime\n",
    "\n",
    "import numpy as np\n",
    "import gymnasium as gym\n",
    "from gymnasium.experimental.wrappers import RecordVideoV0\n",
    "from stable_baselines3 import PPO\n",
    "from stable_baselines3.common.callbacks import CheckpointCallback\n",
    "\n",
    "from er_mrl.wrappers import ReservoirWrapper, CollectObs_Wrapper, CollectContext_Wrapper\n",
    "from er_mrl.utils import plot_results\n"
   ]
  },
  {
   "cell_type": "code",
   "execution_count": 4,
   "id": "3f34173e",
   "metadata": {},
   "outputs": [],
   "source": [
    "# Experiment parameters\n",
    "env_id = 'Swimmer-v4'\n",
    "nb_seeds = 3\n",
    "training_timesteps = 1_000_000\n",
    "models = ['PPO', 'RES_PPO']\n",
    "\n",
    "# Reservoir hyperparameters\n",
    "best_params = {'iss': 0.5094967001909093, 'sr': 0.5107980772147591, 'lr': 0.19038764062731478, 'units': 100}\n",
    "reset_res = True\n",
    "skip_c = False"
   ]
  },
  {
   "cell_type": "code",
   "execution_count": 5,
   "id": "64f75193",
   "metadata": {},
   "outputs": [],
   "source": [
    "# Create the saving directories\n",
    "h_test = 'CPG_test'\n",
    "\n",
    "exp_name = f\"{env_id}_{h_test}\"\n",
    "logdir = f\"logs/{exp_name}/\"\n",
    "models_dir = f\"models/{exp_name}/\"\n",
    "files_dir = f\"{h_test}_files\"\n",
    "\n",
    "os.makedirs(logdir, exist_ok=True)\n",
    "os.makedirs(models_dir, exist_ok=True)\n",
    "os.makedirs(files_dir, exist_ok=True)"
   ]
  },
  {
   "cell_type": "code",
   "execution_count": 10,
   "id": "85006ada",
   "metadata": {},
   "outputs": [
    {
     "name": "stdout",
     "output_type": "stream",
     "text": [
      "Moviepy - Building video /home/flowers/Desktop/python/tests/Swimmer-v4_CPG_test/seed_0/PPO_seed_0-episode-0.mp4.\n",
      "Moviepy - Writing video /home/flowers/Desktop/python/tests/Swimmer-v4_CPG_test/seed_0/PPO_seed_0-episode-0.mp4\n",
      "\n"
     ]
    },
    {
     "name": "stderr",
     "output_type": "stream",
     "text": [
      "                                                                \r"
     ]
    },
    {
     "name": "stdout",
     "output_type": "stream",
     "text": [
      "Moviepy - Done !\n",
      "Moviepy - video ready /home/flowers/Desktop/python/tests/Swimmer-v4_CPG_test/seed_0/PPO_seed_0-episode-0.mp4\n",
      "Moviepy - Building video /home/flowers/Desktop/python/tests/Swimmer-v4_CPG_test/seed_0/PPO_seed_0-episode-25.mp4.\n",
      "Moviepy - Writing video /home/flowers/Desktop/python/tests/Swimmer-v4_CPG_test/seed_0/PPO_seed_0-episode-25.mp4\n",
      "\n"
     ]
    },
    {
     "name": "stderr",
     "output_type": "stream",
     "text": [
      "                                                                \r"
     ]
    },
    {
     "name": "stdout",
     "output_type": "stream",
     "text": [
      "Moviepy - Done !\n",
      "Moviepy - video ready /home/flowers/Desktop/python/tests/Swimmer-v4_CPG_test/seed_0/PPO_seed_0-episode-25.mp4\n",
      "Moviepy - Building video /home/flowers/Desktop/python/tests/Swimmer-v4_CPG_test/seed_0/PPO_seed_0-episode-50.mp4.\n",
      "Moviepy - Writing video /home/flowers/Desktop/python/tests/Swimmer-v4_CPG_test/seed_0/PPO_seed_0-episode-50.mp4\n",
      "\n"
     ]
    },
    {
     "name": "stderr",
     "output_type": "stream",
     "text": [
      "                                                                \r"
     ]
    },
    {
     "name": "stdout",
     "output_type": "stream",
     "text": [
      "Moviepy - Done !\n",
      "Moviepy - video ready /home/flowers/Desktop/python/tests/Swimmer-v4_CPG_test/seed_0/PPO_seed_0-episode-50.mp4\n",
      "Moviepy - Building video /home/flowers/Desktop/python/tests/Swimmer-v4_CPG_test/seed_0/PPO_seed_0-episode-75.mp4.\n",
      "Moviepy - Writing video /home/flowers/Desktop/python/tests/Swimmer-v4_CPG_test/seed_0/PPO_seed_0-episode-75.mp4\n",
      "\n"
     ]
    },
    {
     "name": "stderr",
     "output_type": "stream",
     "text": [
      "                                                                \r"
     ]
    },
    {
     "name": "stdout",
     "output_type": "stream",
     "text": [
      "Moviepy - Done !\n",
      "Moviepy - video ready /home/flowers/Desktop/python/tests/Swimmer-v4_CPG_test/seed_0/PPO_seed_0-episode-75.mp4\n",
      "Moviepy - Building video /home/flowers/Desktop/python/tests/Swimmer-v4_CPG_test/seed_0/PPO_seed_0-episode-100.mp4.\n",
      "Moviepy - Writing video /home/flowers/Desktop/python/tests/Swimmer-v4_CPG_test/seed_0/PPO_seed_0-episode-100.mp4\n",
      "\n"
     ]
    },
    {
     "name": "stderr",
     "output_type": "stream",
     "text": [
      "                                                                \r"
     ]
    },
    {
     "name": "stdout",
     "output_type": "stream",
     "text": [
      "Moviepy - Done !\n",
      "Moviepy - video ready /home/flowers/Desktop/python/tests/Swimmer-v4_CPG_test/seed_0/PPO_seed_0-episode-100.mp4\n",
      "Moviepy - Building video /home/flowers/Desktop/python/tests/Swimmer-v4_CPG_test/seed_0/PPO_seed_0-episode-125.mp4.\n",
      "Moviepy - Writing video /home/flowers/Desktop/python/tests/Swimmer-v4_CPG_test/seed_0/PPO_seed_0-episode-125.mp4\n",
      "\n"
     ]
    },
    {
     "name": "stderr",
     "output_type": "stream",
     "text": [
      "                                                                \r"
     ]
    },
    {
     "name": "stdout",
     "output_type": "stream",
     "text": [
      "Moviepy - Done !\n",
      "Moviepy - video ready /home/flowers/Desktop/python/tests/Swimmer-v4_CPG_test/seed_0/PPO_seed_0-episode-125.mp4\n",
      "Moviepy - Building video /home/flowers/Desktop/python/tests/Swimmer-v4_CPG_test/seed_0/PPO_seed_0-episode-150.mp4.\n",
      "Moviepy - Writing video /home/flowers/Desktop/python/tests/Swimmer-v4_CPG_test/seed_0/PPO_seed_0-episode-150.mp4\n",
      "\n"
     ]
    },
    {
     "name": "stderr",
     "output_type": "stream",
     "text": [
      "                                                                \r"
     ]
    },
    {
     "name": "stdout",
     "output_type": "stream",
     "text": [
      "Moviepy - Done !\n",
      "Moviepy - video ready /home/flowers/Desktop/python/tests/Swimmer-v4_CPG_test/seed_0/PPO_seed_0-episode-150.mp4\n",
      "Moviepy - Building video /home/flowers/Desktop/python/tests/Swimmer-v4_CPG_test/seed_0/PPO_seed_0-episode-175.mp4.\n",
      "Moviepy - Writing video /home/flowers/Desktop/python/tests/Swimmer-v4_CPG_test/seed_0/PPO_seed_0-episode-175.mp4\n",
      "\n"
     ]
    },
    {
     "name": "stderr",
     "output_type": "stream",
     "text": [
      "                                                                \r"
     ]
    },
    {
     "name": "stdout",
     "output_type": "stream",
     "text": [
      "Moviepy - Done !\n",
      "Moviepy - video ready /home/flowers/Desktop/python/tests/Swimmer-v4_CPG_test/seed_0/PPO_seed_0-episode-175.mp4\n",
      "Moviepy - Building video /home/flowers/Desktop/python/tests/Swimmer-v4_CPG_test/seed_0/PPO_seed_0-episode-200.mp4.\n",
      "Moviepy - Writing video /home/flowers/Desktop/python/tests/Swimmer-v4_CPG_test/seed_0/PPO_seed_0-episode-200.mp4\n",
      "\n"
     ]
    },
    {
     "name": "stderr",
     "output_type": "stream",
     "text": [
      "                                                                \r"
     ]
    },
    {
     "name": "stdout",
     "output_type": "stream",
     "text": [
      "Moviepy - Done !\n",
      "Moviepy - video ready /home/flowers/Desktop/python/tests/Swimmer-v4_CPG_test/seed_0/PPO_seed_0-episode-200.mp4\n",
      "Moviepy - Building video /home/flowers/Desktop/python/tests/Swimmer-v4_CPG_test/seed_0/PPO_seed_0-episode-225.mp4.\n",
      "Moviepy - Writing video /home/flowers/Desktop/python/tests/Swimmer-v4_CPG_test/seed_0/PPO_seed_0-episode-225.mp4\n",
      "\n"
     ]
    },
    {
     "name": "stderr",
     "output_type": "stream",
     "text": [
      "                                                                \r"
     ]
    },
    {
     "name": "stdout",
     "output_type": "stream",
     "text": [
      "Moviepy - Done !\n",
      "Moviepy - video ready /home/flowers/Desktop/python/tests/Swimmer-v4_CPG_test/seed_0/PPO_seed_0-episode-225.mp4\n",
      "Moviepy - Building video /home/flowers/Desktop/python/tests/Swimmer-v4_CPG_test/seed_0/PPO_seed_0-episode-250.mp4.\n",
      "Moviepy - Writing video /home/flowers/Desktop/python/tests/Swimmer-v4_CPG_test/seed_0/PPO_seed_0-episode-250.mp4\n",
      "\n"
     ]
    },
    {
     "name": "stderr",
     "output_type": "stream",
     "text": [
      "                                                                \r"
     ]
    },
    {
     "name": "stdout",
     "output_type": "stream",
     "text": [
      "Moviepy - Done !\n",
      "Moviepy - video ready /home/flowers/Desktop/python/tests/Swimmer-v4_CPG_test/seed_0/PPO_seed_0-episode-250.mp4\n",
      "Moviepy - Building video /home/flowers/Desktop/python/tests/Swimmer-v4_CPG_test/seed_0/PPO_seed_0-episode-275.mp4.\n",
      "Moviepy - Writing video /home/flowers/Desktop/python/tests/Swimmer-v4_CPG_test/seed_0/PPO_seed_0-episode-275.mp4\n",
      "\n"
     ]
    },
    {
     "name": "stderr",
     "output_type": "stream",
     "text": [
      "                                                                 \r"
     ]
    },
    {
     "name": "stdout",
     "output_type": "stream",
     "text": [
      "Moviepy - Done !\n",
      "Moviepy - video ready /home/flowers/Desktop/python/tests/Swimmer-v4_CPG_test/seed_0/PPO_seed_0-episode-275.mp4\n",
      "Moviepy - Building video /home/flowers/Desktop/python/tests/Swimmer-v4_CPG_test/seed_0/PPO_seed_0-episode-300.mp4.\n",
      "Moviepy - Writing video /home/flowers/Desktop/python/tests/Swimmer-v4_CPG_test/seed_0/PPO_seed_0-episode-300.mp4\n",
      "\n"
     ]
    },
    {
     "name": "stderr",
     "output_type": "stream",
     "text": [
      "                                                                \r"
     ]
    },
    {
     "name": "stdout",
     "output_type": "stream",
     "text": [
      "Moviepy - Done !\n",
      "Moviepy - video ready /home/flowers/Desktop/python/tests/Swimmer-v4_CPG_test/seed_0/PPO_seed_0-episode-300.mp4\n",
      "Moviepy - Building video /home/flowers/Desktop/python/tests/Swimmer-v4_CPG_test/seed_0/PPO_seed_0-episode-325.mp4.\n",
      "Moviepy - Writing video /home/flowers/Desktop/python/tests/Swimmer-v4_CPG_test/seed_0/PPO_seed_0-episode-325.mp4\n",
      "\n"
     ]
    },
    {
     "name": "stderr",
     "output_type": "stream",
     "text": [
      "                                                                 \r"
     ]
    },
    {
     "name": "stdout",
     "output_type": "stream",
     "text": [
      "Moviepy - Done !\n",
      "Moviepy - video ready /home/flowers/Desktop/python/tests/Swimmer-v4_CPG_test/seed_0/PPO_seed_0-episode-325.mp4\n",
      "Moviepy - Building video /home/flowers/Desktop/python/tests/Swimmer-v4_CPG_test/seed_0/PPO_seed_0-episode-350.mp4.\n",
      "Moviepy - Writing video /home/flowers/Desktop/python/tests/Swimmer-v4_CPG_test/seed_0/PPO_seed_0-episode-350.mp4\n",
      "\n"
     ]
    },
    {
     "name": "stderr",
     "output_type": "stream",
     "text": [
      "                                                                \r"
     ]
    },
    {
     "name": "stdout",
     "output_type": "stream",
     "text": [
      "Moviepy - Done !\n",
      "Moviepy - video ready /home/flowers/Desktop/python/tests/Swimmer-v4_CPG_test/seed_0/PPO_seed_0-episode-350.mp4\n",
      "Moviepy - Building video /home/flowers/Desktop/python/tests/Swimmer-v4_CPG_test/seed_0/PPO_seed_0-episode-375.mp4.\n",
      "Moviepy - Writing video /home/flowers/Desktop/python/tests/Swimmer-v4_CPG_test/seed_0/PPO_seed_0-episode-375.mp4\n",
      "\n"
     ]
    },
    {
     "name": "stderr",
     "output_type": "stream",
     "text": [
      "                                                                \r"
     ]
    },
    {
     "name": "stdout",
     "output_type": "stream",
     "text": [
      "Moviepy - Done !\n",
      "Moviepy - video ready /home/flowers/Desktop/python/tests/Swimmer-v4_CPG_test/seed_0/PPO_seed_0-episode-375.mp4\n",
      "Moviepy - Building video /home/flowers/Desktop/python/tests/Swimmer-v4_CPG_test/seed_0/PPO_seed_0-episode-400.mp4.\n",
      "Moviepy - Writing video /home/flowers/Desktop/python/tests/Swimmer-v4_CPG_test/seed_0/PPO_seed_0-episode-400.mp4\n",
      "\n"
     ]
    },
    {
     "name": "stderr",
     "output_type": "stream",
     "text": [
      "                                                                \r"
     ]
    },
    {
     "name": "stdout",
     "output_type": "stream",
     "text": [
      "Moviepy - Done !\n",
      "Moviepy - video ready /home/flowers/Desktop/python/tests/Swimmer-v4_CPG_test/seed_0/PPO_seed_0-episode-400.mp4\n",
      "Moviepy - Building video /home/flowers/Desktop/python/tests/Swimmer-v4_CPG_test/seed_0/PPO_seed_0-episode-425.mp4.\n",
      "Moviepy - Writing video /home/flowers/Desktop/python/tests/Swimmer-v4_CPG_test/seed_0/PPO_seed_0-episode-425.mp4\n",
      "\n"
     ]
    },
    {
     "name": "stderr",
     "output_type": "stream",
     "text": [
      "                                                                \r"
     ]
    },
    {
     "name": "stdout",
     "output_type": "stream",
     "text": [
      "Moviepy - Done !\n",
      "Moviepy - video ready /home/flowers/Desktop/python/tests/Swimmer-v4_CPG_test/seed_0/PPO_seed_0-episode-425.mp4\n",
      "Moviepy - Building video /home/flowers/Desktop/python/tests/Swimmer-v4_CPG_test/seed_0/PPO_seed_0-episode-450.mp4.\n",
      "Moviepy - Writing video /home/flowers/Desktop/python/tests/Swimmer-v4_CPG_test/seed_0/PPO_seed_0-episode-450.mp4\n",
      "\n"
     ]
    },
    {
     "name": "stderr",
     "output_type": "stream",
     "text": [
      "                                                                \r"
     ]
    },
    {
     "name": "stdout",
     "output_type": "stream",
     "text": [
      "Moviepy - Done !\n",
      "Moviepy - video ready /home/flowers/Desktop/python/tests/Swimmer-v4_CPG_test/seed_0/PPO_seed_0-episode-450.mp4\n",
      "Moviepy - Building video /home/flowers/Desktop/python/tests/Swimmer-v4_CPG_test/seed_0/PPO_seed_0-episode-475.mp4.\n",
      "Moviepy - Writing video /home/flowers/Desktop/python/tests/Swimmer-v4_CPG_test/seed_0/PPO_seed_0-episode-475.mp4\n",
      "\n"
     ]
    },
    {
     "name": "stderr",
     "output_type": "stream",
     "text": [
      "                                                                 \r"
     ]
    },
    {
     "name": "stdout",
     "output_type": "stream",
     "text": [
      "Moviepy - Done !\n",
      "Moviepy - video ready /home/flowers/Desktop/python/tests/Swimmer-v4_CPG_test/seed_0/PPO_seed_0-episode-475.mp4\n",
      "Moviepy - Building video /home/flowers/Desktop/python/tests/Swimmer-v4_CPG_test/seed_0/PPO_seed_0-episode-500.mp4.\n",
      "Moviepy - Writing video /home/flowers/Desktop/python/tests/Swimmer-v4_CPG_test/seed_0/PPO_seed_0-episode-500.mp4\n",
      "\n"
     ]
    },
    {
     "name": "stderr",
     "output_type": "stream",
     "text": [
      "                                                                \r"
     ]
    },
    {
     "name": "stdout",
     "output_type": "stream",
     "text": [
      "Moviepy - Done !\n",
      "Moviepy - video ready /home/flowers/Desktop/python/tests/Swimmer-v4_CPG_test/seed_0/PPO_seed_0-episode-500.mp4\n",
      "Moviepy - Building video /home/flowers/Desktop/python/tests/Swimmer-v4_CPG_test/seed_0/PPO_seed_0-episode-525.mp4.\n",
      "Moviepy - Writing video /home/flowers/Desktop/python/tests/Swimmer-v4_CPG_test/seed_0/PPO_seed_0-episode-525.mp4\n",
      "\n"
     ]
    },
    {
     "name": "stderr",
     "output_type": "stream",
     "text": [
      "                                                                \r"
     ]
    },
    {
     "name": "stdout",
     "output_type": "stream",
     "text": [
      "Moviepy - Done !\n",
      "Moviepy - video ready /home/flowers/Desktop/python/tests/Swimmer-v4_CPG_test/seed_0/PPO_seed_0-episode-525.mp4\n",
      "Moviepy - Building video /home/flowers/Desktop/python/tests/Swimmer-v4_CPG_test/seed_0/PPO_seed_0-episode-550.mp4.\n",
      "Moviepy - Writing video /home/flowers/Desktop/python/tests/Swimmer-v4_CPG_test/seed_0/PPO_seed_0-episode-550.mp4\n",
      "\n"
     ]
    },
    {
     "name": "stderr",
     "output_type": "stream",
     "text": [
      "                                                                \r"
     ]
    },
    {
     "name": "stdout",
     "output_type": "stream",
     "text": [
      "Moviepy - Done !\n",
      "Moviepy - video ready /home/flowers/Desktop/python/tests/Swimmer-v4_CPG_test/seed_0/PPO_seed_0-episode-550.mp4\n",
      "Moviepy - Building video /home/flowers/Desktop/python/tests/Swimmer-v4_CPG_test/seed_0/PPO_seed_0-episode-575.mp4.\n",
      "Moviepy - Writing video /home/flowers/Desktop/python/tests/Swimmer-v4_CPG_test/seed_0/PPO_seed_0-episode-575.mp4\n",
      "\n"
     ]
    },
    {
     "name": "stderr",
     "output_type": "stream",
     "text": [
      "                                                                \r"
     ]
    },
    {
     "name": "stdout",
     "output_type": "stream",
     "text": [
      "Moviepy - Done !\n",
      "Moviepy - video ready /home/flowers/Desktop/python/tests/Swimmer-v4_CPG_test/seed_0/PPO_seed_0-episode-575.mp4\n"
     ]
    },
    {
     "name": "stderr",
     "output_type": "stream",
     "text": [
      "/home/flowers/.local/lib/python3.10/site-packages/gymnasium/experimental/wrappers/rendering.py:169: UserWarning: \u001b[33mWARN: Overwriting existing videos at /home/flowers/Desktop/python/tests/Swimmer-v4_CPG_test/seed_0 folder (try specifying a different `video_folder` for the `RecordVideo` wrapper if this is not desired)\u001b[0m\n",
      "  logger.warn(\n"
     ]
    },
    {
     "name": "stdout",
     "output_type": "stream",
     "text": [
      "Moviepy - Building video /home/flowers/Desktop/python/tests/Swimmer-v4_CPG_test/seed_0/RES_PPO_seed_0-episode-0.mp4.\n",
      "Moviepy - Writing video /home/flowers/Desktop/python/tests/Swimmer-v4_CPG_test/seed_0/RES_PPO_seed_0-episode-0.mp4\n",
      "\n"
     ]
    },
    {
     "name": "stderr",
     "output_type": "stream",
     "text": [
      "                                                                \r"
     ]
    },
    {
     "name": "stdout",
     "output_type": "stream",
     "text": [
      "Moviepy - Done !\n",
      "Moviepy - video ready /home/flowers/Desktop/python/tests/Swimmer-v4_CPG_test/seed_0/RES_PPO_seed_0-episode-0.mp4\n",
      "Moviepy - Building video /home/flowers/Desktop/python/tests/Swimmer-v4_CPG_test/seed_0/RES_PPO_seed_0-episode-25.mp4.\n",
      "Moviepy - Writing video /home/flowers/Desktop/python/tests/Swimmer-v4_CPG_test/seed_0/RES_PPO_seed_0-episode-25.mp4\n",
      "\n"
     ]
    },
    {
     "name": "stderr",
     "output_type": "stream",
     "text": [
      "                                                                \r"
     ]
    },
    {
     "name": "stdout",
     "output_type": "stream",
     "text": [
      "Moviepy - Done !\n",
      "Moviepy - video ready /home/flowers/Desktop/python/tests/Swimmer-v4_CPG_test/seed_0/RES_PPO_seed_0-episode-25.mp4\n",
      "Moviepy - Building video /home/flowers/Desktop/python/tests/Swimmer-v4_CPG_test/seed_0/RES_PPO_seed_0-episode-50.mp4.\n",
      "Moviepy - Writing video /home/flowers/Desktop/python/tests/Swimmer-v4_CPG_test/seed_0/RES_PPO_seed_0-episode-50.mp4\n",
      "\n"
     ]
    },
    {
     "name": "stderr",
     "output_type": "stream",
     "text": [
      "                                                                \r"
     ]
    },
    {
     "name": "stdout",
     "output_type": "stream",
     "text": [
      "Moviepy - Done !\n",
      "Moviepy - video ready /home/flowers/Desktop/python/tests/Swimmer-v4_CPG_test/seed_0/RES_PPO_seed_0-episode-50.mp4\n",
      "Moviepy - Building video /home/flowers/Desktop/python/tests/Swimmer-v4_CPG_test/seed_0/RES_PPO_seed_0-episode-75.mp4.\n",
      "Moviepy - Writing video /home/flowers/Desktop/python/tests/Swimmer-v4_CPG_test/seed_0/RES_PPO_seed_0-episode-75.mp4\n",
      "\n"
     ]
    },
    {
     "name": "stderr",
     "output_type": "stream",
     "text": [
      "                                                                 \r"
     ]
    },
    {
     "name": "stdout",
     "output_type": "stream",
     "text": [
      "Moviepy - Done !\n",
      "Moviepy - video ready /home/flowers/Desktop/python/tests/Swimmer-v4_CPG_test/seed_0/RES_PPO_seed_0-episode-75.mp4\n",
      "Moviepy - Building video /home/flowers/Desktop/python/tests/Swimmer-v4_CPG_test/seed_0/RES_PPO_seed_0-episode-100.mp4.\n",
      "Moviepy - Writing video /home/flowers/Desktop/python/tests/Swimmer-v4_CPG_test/seed_0/RES_PPO_seed_0-episode-100.mp4\n",
      "\n"
     ]
    },
    {
     "name": "stderr",
     "output_type": "stream",
     "text": [
      "                                                                \r"
     ]
    },
    {
     "name": "stdout",
     "output_type": "stream",
     "text": [
      "Moviepy - Done !\n",
      "Moviepy - video ready /home/flowers/Desktop/python/tests/Swimmer-v4_CPG_test/seed_0/RES_PPO_seed_0-episode-100.mp4\n",
      "Moviepy - Building video /home/flowers/Desktop/python/tests/Swimmer-v4_CPG_test/seed_0/RES_PPO_seed_0-episode-125.mp4.\n",
      "Moviepy - Writing video /home/flowers/Desktop/python/tests/Swimmer-v4_CPG_test/seed_0/RES_PPO_seed_0-episode-125.mp4\n",
      "\n"
     ]
    },
    {
     "name": "stderr",
     "output_type": "stream",
     "text": [
      "                                                                \r"
     ]
    },
    {
     "name": "stdout",
     "output_type": "stream",
     "text": [
      "Moviepy - Done !\n",
      "Moviepy - video ready /home/flowers/Desktop/python/tests/Swimmer-v4_CPG_test/seed_0/RES_PPO_seed_0-episode-125.mp4\n",
      "Moviepy - Building video /home/flowers/Desktop/python/tests/Swimmer-v4_CPG_test/seed_0/RES_PPO_seed_0-episode-150.mp4.\n",
      "Moviepy - Writing video /home/flowers/Desktop/python/tests/Swimmer-v4_CPG_test/seed_0/RES_PPO_seed_0-episode-150.mp4\n",
      "\n"
     ]
    },
    {
     "name": "stderr",
     "output_type": "stream",
     "text": [
      "                                                                \r"
     ]
    },
    {
     "name": "stdout",
     "output_type": "stream",
     "text": [
      "Moviepy - Done !\n",
      "Moviepy - video ready /home/flowers/Desktop/python/tests/Swimmer-v4_CPG_test/seed_0/RES_PPO_seed_0-episode-150.mp4\n",
      "Moviepy - Building video /home/flowers/Desktop/python/tests/Swimmer-v4_CPG_test/seed_0/RES_PPO_seed_0-episode-175.mp4.\n",
      "Moviepy - Writing video /home/flowers/Desktop/python/tests/Swimmer-v4_CPG_test/seed_0/RES_PPO_seed_0-episode-175.mp4\n",
      "\n"
     ]
    },
    {
     "name": "stderr",
     "output_type": "stream",
     "text": [
      "                                                                \r"
     ]
    },
    {
     "name": "stdout",
     "output_type": "stream",
     "text": [
      "Moviepy - Done !\n",
      "Moviepy - video ready /home/flowers/Desktop/python/tests/Swimmer-v4_CPG_test/seed_0/RES_PPO_seed_0-episode-175.mp4\n",
      "Moviepy - Building video /home/flowers/Desktop/python/tests/Swimmer-v4_CPG_test/seed_0/RES_PPO_seed_0-episode-200.mp4.\n",
      "Moviepy - Writing video /home/flowers/Desktop/python/tests/Swimmer-v4_CPG_test/seed_0/RES_PPO_seed_0-episode-200.mp4\n",
      "\n"
     ]
    },
    {
     "name": "stderr",
     "output_type": "stream",
     "text": [
      "                                                                \r"
     ]
    },
    {
     "name": "stdout",
     "output_type": "stream",
     "text": [
      "Moviepy - Done !\n",
      "Moviepy - video ready /home/flowers/Desktop/python/tests/Swimmer-v4_CPG_test/seed_0/RES_PPO_seed_0-episode-200.mp4\n",
      "Moviepy - Building video /home/flowers/Desktop/python/tests/Swimmer-v4_CPG_test/seed_0/RES_PPO_seed_0-episode-225.mp4.\n",
      "Moviepy - Writing video /home/flowers/Desktop/python/tests/Swimmer-v4_CPG_test/seed_0/RES_PPO_seed_0-episode-225.mp4\n",
      "\n"
     ]
    },
    {
     "name": "stderr",
     "output_type": "stream",
     "text": [
      "                                                                 \r"
     ]
    },
    {
     "name": "stdout",
     "output_type": "stream",
     "text": [
      "Moviepy - Done !\n",
      "Moviepy - video ready /home/flowers/Desktop/python/tests/Swimmer-v4_CPG_test/seed_0/RES_PPO_seed_0-episode-225.mp4\n",
      "Moviepy - Building video /home/flowers/Desktop/python/tests/Swimmer-v4_CPG_test/seed_0/RES_PPO_seed_0-episode-250.mp4.\n",
      "Moviepy - Writing video /home/flowers/Desktop/python/tests/Swimmer-v4_CPG_test/seed_0/RES_PPO_seed_0-episode-250.mp4\n",
      "\n"
     ]
    },
    {
     "name": "stderr",
     "output_type": "stream",
     "text": [
      "                                                                \r"
     ]
    },
    {
     "name": "stdout",
     "output_type": "stream",
     "text": [
      "Moviepy - Done !\n",
      "Moviepy - video ready /home/flowers/Desktop/python/tests/Swimmer-v4_CPG_test/seed_0/RES_PPO_seed_0-episode-250.mp4\n",
      "Moviepy - Building video /home/flowers/Desktop/python/tests/Swimmer-v4_CPG_test/seed_0/RES_PPO_seed_0-episode-275.mp4.\n",
      "Moviepy - Writing video /home/flowers/Desktop/python/tests/Swimmer-v4_CPG_test/seed_0/RES_PPO_seed_0-episode-275.mp4\n",
      "\n"
     ]
    },
    {
     "name": "stderr",
     "output_type": "stream",
     "text": [
      "                                                                \r"
     ]
    },
    {
     "name": "stdout",
     "output_type": "stream",
     "text": [
      "Moviepy - Done !\n",
      "Moviepy - video ready /home/flowers/Desktop/python/tests/Swimmer-v4_CPG_test/seed_0/RES_PPO_seed_0-episode-275.mp4\n",
      "Moviepy - Building video /home/flowers/Desktop/python/tests/Swimmer-v4_CPG_test/seed_0/RES_PPO_seed_0-episode-300.mp4.\n",
      "Moviepy - Writing video /home/flowers/Desktop/python/tests/Swimmer-v4_CPG_test/seed_0/RES_PPO_seed_0-episode-300.mp4\n",
      "\n"
     ]
    },
    {
     "name": "stderr",
     "output_type": "stream",
     "text": [
      "                                                                \r"
     ]
    },
    {
     "name": "stdout",
     "output_type": "stream",
     "text": [
      "Moviepy - Done !\n",
      "Moviepy - video ready /home/flowers/Desktop/python/tests/Swimmer-v4_CPG_test/seed_0/RES_PPO_seed_0-episode-300.mp4\n",
      "Moviepy - Building video /home/flowers/Desktop/python/tests/Swimmer-v4_CPG_test/seed_0/RES_PPO_seed_0-episode-325.mp4.\n",
      "Moviepy - Writing video /home/flowers/Desktop/python/tests/Swimmer-v4_CPG_test/seed_0/RES_PPO_seed_0-episode-325.mp4\n",
      "\n"
     ]
    },
    {
     "name": "stderr",
     "output_type": "stream",
     "text": [
      "                                                                \r"
     ]
    },
    {
     "name": "stdout",
     "output_type": "stream",
     "text": [
      "Moviepy - Done !\n",
      "Moviepy - video ready /home/flowers/Desktop/python/tests/Swimmer-v4_CPG_test/seed_0/RES_PPO_seed_0-episode-325.mp4\n",
      "Moviepy - Building video /home/flowers/Desktop/python/tests/Swimmer-v4_CPG_test/seed_0/RES_PPO_seed_0-episode-350.mp4.\n",
      "Moviepy - Writing video /home/flowers/Desktop/python/tests/Swimmer-v4_CPG_test/seed_0/RES_PPO_seed_0-episode-350.mp4\n",
      "\n"
     ]
    },
    {
     "name": "stderr",
     "output_type": "stream",
     "text": [
      "                                                                 \r"
     ]
    },
    {
     "name": "stdout",
     "output_type": "stream",
     "text": [
      "Moviepy - Done !\n",
      "Moviepy - video ready /home/flowers/Desktop/python/tests/Swimmer-v4_CPG_test/seed_0/RES_PPO_seed_0-episode-350.mp4\n",
      "Moviepy - Building video /home/flowers/Desktop/python/tests/Swimmer-v4_CPG_test/seed_0/RES_PPO_seed_0-episode-375.mp4.\n",
      "Moviepy - Writing video /home/flowers/Desktop/python/tests/Swimmer-v4_CPG_test/seed_0/RES_PPO_seed_0-episode-375.mp4\n",
      "\n"
     ]
    },
    {
     "name": "stderr",
     "output_type": "stream",
     "text": [
      "                                                                \r"
     ]
    },
    {
     "name": "stdout",
     "output_type": "stream",
     "text": [
      "Moviepy - Done !\n",
      "Moviepy - video ready /home/flowers/Desktop/python/tests/Swimmer-v4_CPG_test/seed_0/RES_PPO_seed_0-episode-375.mp4\n",
      "Moviepy - Building video /home/flowers/Desktop/python/tests/Swimmer-v4_CPG_test/seed_0/RES_PPO_seed_0-episode-400.mp4.\n",
      "Moviepy - Writing video /home/flowers/Desktop/python/tests/Swimmer-v4_CPG_test/seed_0/RES_PPO_seed_0-episode-400.mp4\n",
      "\n"
     ]
    },
    {
     "name": "stderr",
     "output_type": "stream",
     "text": [
      "                                                                \r"
     ]
    },
    {
     "name": "stdout",
     "output_type": "stream",
     "text": [
      "Moviepy - Done !\n",
      "Moviepy - video ready /home/flowers/Desktop/python/tests/Swimmer-v4_CPG_test/seed_0/RES_PPO_seed_0-episode-400.mp4\n",
      "Moviepy - Building video /home/flowers/Desktop/python/tests/Swimmer-v4_CPG_test/seed_0/RES_PPO_seed_0-episode-425.mp4.\n",
      "Moviepy - Writing video /home/flowers/Desktop/python/tests/Swimmer-v4_CPG_test/seed_0/RES_PPO_seed_0-episode-425.mp4\n",
      "\n"
     ]
    },
    {
     "name": "stderr",
     "output_type": "stream",
     "text": [
      "                                                                \r"
     ]
    },
    {
     "name": "stdout",
     "output_type": "stream",
     "text": [
      "Moviepy - Done !\n",
      "Moviepy - video ready /home/flowers/Desktop/python/tests/Swimmer-v4_CPG_test/seed_0/RES_PPO_seed_0-episode-425.mp4\n",
      "Moviepy - Building video /home/flowers/Desktop/python/tests/Swimmer-v4_CPG_test/seed_0/RES_PPO_seed_0-episode-450.mp4.\n",
      "Moviepy - Writing video /home/flowers/Desktop/python/tests/Swimmer-v4_CPG_test/seed_0/RES_PPO_seed_0-episode-450.mp4\n",
      "\n"
     ]
    },
    {
     "name": "stderr",
     "output_type": "stream",
     "text": [
      "                                                                \r"
     ]
    },
    {
     "name": "stdout",
     "output_type": "stream",
     "text": [
      "Moviepy - Done !\n",
      "Moviepy - video ready /home/flowers/Desktop/python/tests/Swimmer-v4_CPG_test/seed_0/RES_PPO_seed_0-episode-450.mp4\n",
      "Moviepy - Building video /home/flowers/Desktop/python/tests/Swimmer-v4_CPG_test/seed_0/RES_PPO_seed_0-episode-475.mp4.\n",
      "Moviepy - Writing video /home/flowers/Desktop/python/tests/Swimmer-v4_CPG_test/seed_0/RES_PPO_seed_0-episode-475.mp4\n",
      "\n"
     ]
    },
    {
     "name": "stderr",
     "output_type": "stream",
     "text": [
      "                                                                \r"
     ]
    },
    {
     "name": "stdout",
     "output_type": "stream",
     "text": [
      "Moviepy - Done !\n",
      "Moviepy - video ready /home/flowers/Desktop/python/tests/Swimmer-v4_CPG_test/seed_0/RES_PPO_seed_0-episode-475.mp4\n",
      "Moviepy - Building video /home/flowers/Desktop/python/tests/Swimmer-v4_CPG_test/seed_0/RES_PPO_seed_0-episode-500.mp4.\n",
      "Moviepy - Writing video /home/flowers/Desktop/python/tests/Swimmer-v4_CPG_test/seed_0/RES_PPO_seed_0-episode-500.mp4\n",
      "\n"
     ]
    },
    {
     "name": "stderr",
     "output_type": "stream",
     "text": [
      "                                                                \r"
     ]
    },
    {
     "name": "stdout",
     "output_type": "stream",
     "text": [
      "Moviepy - Done !\n",
      "Moviepy - video ready /home/flowers/Desktop/python/tests/Swimmer-v4_CPG_test/seed_0/RES_PPO_seed_0-episode-500.mp4\n",
      "Moviepy - Building video /home/flowers/Desktop/python/tests/Swimmer-v4_CPG_test/seed_0/RES_PPO_seed_0-episode-525.mp4.\n",
      "Moviepy - Writing video /home/flowers/Desktop/python/tests/Swimmer-v4_CPG_test/seed_0/RES_PPO_seed_0-episode-525.mp4\n",
      "\n"
     ]
    },
    {
     "name": "stderr",
     "output_type": "stream",
     "text": [
      "                                                                \r"
     ]
    },
    {
     "name": "stdout",
     "output_type": "stream",
     "text": [
      "Moviepy - Done !\n",
      "Moviepy - video ready /home/flowers/Desktop/python/tests/Swimmer-v4_CPG_test/seed_0/RES_PPO_seed_0-episode-525.mp4\n",
      "Moviepy - Building video /home/flowers/Desktop/python/tests/Swimmer-v4_CPG_test/seed_0/RES_PPO_seed_0-episode-550.mp4.\n",
      "Moviepy - Writing video /home/flowers/Desktop/python/tests/Swimmer-v4_CPG_test/seed_0/RES_PPO_seed_0-episode-550.mp4\n",
      "\n"
     ]
    },
    {
     "name": "stderr",
     "output_type": "stream",
     "text": [
      "                                                                \r"
     ]
    },
    {
     "name": "stdout",
     "output_type": "stream",
     "text": [
      "Moviepy - Done !\n",
      "Moviepy - video ready /home/flowers/Desktop/python/tests/Swimmer-v4_CPG_test/seed_0/RES_PPO_seed_0-episode-550.mp4\n",
      "Moviepy - Building video /home/flowers/Desktop/python/tests/Swimmer-v4_CPG_test/seed_0/RES_PPO_seed_0-episode-575.mp4.\n",
      "Moviepy - Writing video /home/flowers/Desktop/python/tests/Swimmer-v4_CPG_test/seed_0/RES_PPO_seed_0-episode-575.mp4\n",
      "\n"
     ]
    },
    {
     "name": "stderr",
     "output_type": "stream",
     "text": [
      "                                                                \r"
     ]
    },
    {
     "name": "stdout",
     "output_type": "stream",
     "text": [
      "Moviepy - Done !\n",
      "Moviepy - video ready /home/flowers/Desktop/python/tests/Swimmer-v4_CPG_test/seed_0/RES_PPO_seed_0-episode-575.mp4\n",
      "Seed 0 done\n",
      "Moviepy - Building video /home/flowers/Desktop/python/tests/Swimmer-v4_CPG_test/seed_1/PPO_seed_1-episode-0.mp4.\n",
      "Moviepy - Writing video /home/flowers/Desktop/python/tests/Swimmer-v4_CPG_test/seed_1/PPO_seed_1-episode-0.mp4\n",
      "\n"
     ]
    },
    {
     "name": "stderr",
     "output_type": "stream",
     "text": [
      "                                                                \r"
     ]
    },
    {
     "name": "stdout",
     "output_type": "stream",
     "text": [
      "Moviepy - Done !\n",
      "Moviepy - video ready /home/flowers/Desktop/python/tests/Swimmer-v4_CPG_test/seed_1/PPO_seed_1-episode-0.mp4\n",
      "Moviepy - Building video /home/flowers/Desktop/python/tests/Swimmer-v4_CPG_test/seed_1/PPO_seed_1-episode-25.mp4.\n",
      "Moviepy - Writing video /home/flowers/Desktop/python/tests/Swimmer-v4_CPG_test/seed_1/PPO_seed_1-episode-25.mp4\n",
      "\n"
     ]
    },
    {
     "name": "stderr",
     "output_type": "stream",
     "text": [
      "                                                                \r"
     ]
    },
    {
     "name": "stdout",
     "output_type": "stream",
     "text": [
      "Moviepy - Done !\n",
      "Moviepy - video ready /home/flowers/Desktop/python/tests/Swimmer-v4_CPG_test/seed_1/PPO_seed_1-episode-25.mp4\n",
      "Moviepy - Building video /home/flowers/Desktop/python/tests/Swimmer-v4_CPG_test/seed_1/PPO_seed_1-episode-50.mp4.\n",
      "Moviepy - Writing video /home/flowers/Desktop/python/tests/Swimmer-v4_CPG_test/seed_1/PPO_seed_1-episode-50.mp4\n",
      "\n"
     ]
    },
    {
     "name": "stderr",
     "output_type": "stream",
     "text": [
      "                                                                \r"
     ]
    },
    {
     "name": "stdout",
     "output_type": "stream",
     "text": [
      "Moviepy - Done !\n",
      "Moviepy - video ready /home/flowers/Desktop/python/tests/Swimmer-v4_CPG_test/seed_1/PPO_seed_1-episode-50.mp4\n",
      "Moviepy - Building video /home/flowers/Desktop/python/tests/Swimmer-v4_CPG_test/seed_1/PPO_seed_1-episode-75.mp4.\n",
      "Moviepy - Writing video /home/flowers/Desktop/python/tests/Swimmer-v4_CPG_test/seed_1/PPO_seed_1-episode-75.mp4\n",
      "\n"
     ]
    },
    {
     "name": "stderr",
     "output_type": "stream",
     "text": [
      "                                                                \r"
     ]
    },
    {
     "name": "stdout",
     "output_type": "stream",
     "text": [
      "Moviepy - Done !\n",
      "Moviepy - video ready /home/flowers/Desktop/python/tests/Swimmer-v4_CPG_test/seed_1/PPO_seed_1-episode-75.mp4\n",
      "Moviepy - Building video /home/flowers/Desktop/python/tests/Swimmer-v4_CPG_test/seed_1/PPO_seed_1-episode-100.mp4.\n",
      "Moviepy - Writing video /home/flowers/Desktop/python/tests/Swimmer-v4_CPG_test/seed_1/PPO_seed_1-episode-100.mp4\n",
      "\n"
     ]
    },
    {
     "name": "stderr",
     "output_type": "stream",
     "text": [
      "                                                                \r"
     ]
    },
    {
     "name": "stdout",
     "output_type": "stream",
     "text": [
      "Moviepy - Done !\n",
      "Moviepy - video ready /home/flowers/Desktop/python/tests/Swimmer-v4_CPG_test/seed_1/PPO_seed_1-episode-100.mp4\n",
      "Moviepy - Building video /home/flowers/Desktop/python/tests/Swimmer-v4_CPG_test/seed_1/PPO_seed_1-episode-125.mp4.\n",
      "Moviepy - Writing video /home/flowers/Desktop/python/tests/Swimmer-v4_CPG_test/seed_1/PPO_seed_1-episode-125.mp4\n",
      "\n"
     ]
    },
    {
     "name": "stderr",
     "output_type": "stream",
     "text": [
      "                                                                \r"
     ]
    },
    {
     "name": "stdout",
     "output_type": "stream",
     "text": [
      "Moviepy - Done !\n",
      "Moviepy - video ready /home/flowers/Desktop/python/tests/Swimmer-v4_CPG_test/seed_1/PPO_seed_1-episode-125.mp4\n",
      "Moviepy - Building video /home/flowers/Desktop/python/tests/Swimmer-v4_CPG_test/seed_1/PPO_seed_1-episode-150.mp4.\n",
      "Moviepy - Writing video /home/flowers/Desktop/python/tests/Swimmer-v4_CPG_test/seed_1/PPO_seed_1-episode-150.mp4\n",
      "\n"
     ]
    },
    {
     "name": "stderr",
     "output_type": "stream",
     "text": [
      "                                                                \r"
     ]
    },
    {
     "name": "stdout",
     "output_type": "stream",
     "text": [
      "Moviepy - Done !\n",
      "Moviepy - video ready /home/flowers/Desktop/python/tests/Swimmer-v4_CPG_test/seed_1/PPO_seed_1-episode-150.mp4\n",
      "Moviepy - Building video /home/flowers/Desktop/python/tests/Swimmer-v4_CPG_test/seed_1/PPO_seed_1-episode-175.mp4.\n",
      "Moviepy - Writing video /home/flowers/Desktop/python/tests/Swimmer-v4_CPG_test/seed_1/PPO_seed_1-episode-175.mp4\n",
      "\n"
     ]
    },
    {
     "name": "stderr",
     "output_type": "stream",
     "text": [
      "                                                                \r"
     ]
    },
    {
     "name": "stdout",
     "output_type": "stream",
     "text": [
      "Moviepy - Done !\n",
      "Moviepy - video ready /home/flowers/Desktop/python/tests/Swimmer-v4_CPG_test/seed_1/PPO_seed_1-episode-175.mp4\n",
      "Moviepy - Building video /home/flowers/Desktop/python/tests/Swimmer-v4_CPG_test/seed_1/PPO_seed_1-episode-200.mp4.\n",
      "Moviepy - Writing video /home/flowers/Desktop/python/tests/Swimmer-v4_CPG_test/seed_1/PPO_seed_1-episode-200.mp4\n",
      "\n"
     ]
    },
    {
     "name": "stderr",
     "output_type": "stream",
     "text": [
      "                                                                \r"
     ]
    },
    {
     "name": "stdout",
     "output_type": "stream",
     "text": [
      "Moviepy - Done !\n",
      "Moviepy - video ready /home/flowers/Desktop/python/tests/Swimmer-v4_CPG_test/seed_1/PPO_seed_1-episode-200.mp4\n",
      "Moviepy - Building video /home/flowers/Desktop/python/tests/Swimmer-v4_CPG_test/seed_1/PPO_seed_1-episode-225.mp4.\n",
      "Moviepy - Writing video /home/flowers/Desktop/python/tests/Swimmer-v4_CPG_test/seed_1/PPO_seed_1-episode-225.mp4\n",
      "\n"
     ]
    },
    {
     "name": "stderr",
     "output_type": "stream",
     "text": [
      "                                                                \r"
     ]
    },
    {
     "name": "stdout",
     "output_type": "stream",
     "text": [
      "Moviepy - Done !\n",
      "Moviepy - video ready /home/flowers/Desktop/python/tests/Swimmer-v4_CPG_test/seed_1/PPO_seed_1-episode-225.mp4\n",
      "Moviepy - Building video /home/flowers/Desktop/python/tests/Swimmer-v4_CPG_test/seed_1/PPO_seed_1-episode-250.mp4.\n",
      "Moviepy - Writing video /home/flowers/Desktop/python/tests/Swimmer-v4_CPG_test/seed_1/PPO_seed_1-episode-250.mp4\n",
      "\n"
     ]
    },
    {
     "name": "stderr",
     "output_type": "stream",
     "text": [
      "                                                                \r"
     ]
    },
    {
     "name": "stdout",
     "output_type": "stream",
     "text": [
      "Moviepy - Done !\n",
      "Moviepy - video ready /home/flowers/Desktop/python/tests/Swimmer-v4_CPG_test/seed_1/PPO_seed_1-episode-250.mp4\n",
      "Moviepy - Building video /home/flowers/Desktop/python/tests/Swimmer-v4_CPG_test/seed_1/PPO_seed_1-episode-275.mp4.\n",
      "Moviepy - Writing video /home/flowers/Desktop/python/tests/Swimmer-v4_CPG_test/seed_1/PPO_seed_1-episode-275.mp4\n",
      "\n"
     ]
    },
    {
     "name": "stderr",
     "output_type": "stream",
     "text": [
      "                                                                \r"
     ]
    },
    {
     "name": "stdout",
     "output_type": "stream",
     "text": [
      "Moviepy - Done !\n",
      "Moviepy - video ready /home/flowers/Desktop/python/tests/Swimmer-v4_CPG_test/seed_1/PPO_seed_1-episode-275.mp4\n",
      "Moviepy - Building video /home/flowers/Desktop/python/tests/Swimmer-v4_CPG_test/seed_1/PPO_seed_1-episode-300.mp4.\n",
      "Moviepy - Writing video /home/flowers/Desktop/python/tests/Swimmer-v4_CPG_test/seed_1/PPO_seed_1-episode-300.mp4\n",
      "\n"
     ]
    },
    {
     "name": "stderr",
     "output_type": "stream",
     "text": [
      "                                                                \r"
     ]
    },
    {
     "name": "stdout",
     "output_type": "stream",
     "text": [
      "Moviepy - Done !\n",
      "Moviepy - video ready /home/flowers/Desktop/python/tests/Swimmer-v4_CPG_test/seed_1/PPO_seed_1-episode-300.mp4\n",
      "Moviepy - Building video /home/flowers/Desktop/python/tests/Swimmer-v4_CPG_test/seed_1/PPO_seed_1-episode-325.mp4.\n",
      "Moviepy - Writing video /home/flowers/Desktop/python/tests/Swimmer-v4_CPG_test/seed_1/PPO_seed_1-episode-325.mp4\n",
      "\n"
     ]
    },
    {
     "name": "stderr",
     "output_type": "stream",
     "text": [
      "                                                                \r"
     ]
    },
    {
     "name": "stdout",
     "output_type": "stream",
     "text": [
      "Moviepy - Done !\n",
      "Moviepy - video ready /home/flowers/Desktop/python/tests/Swimmer-v4_CPG_test/seed_1/PPO_seed_1-episode-325.mp4\n",
      "Moviepy - Building video /home/flowers/Desktop/python/tests/Swimmer-v4_CPG_test/seed_1/PPO_seed_1-episode-350.mp4.\n",
      "Moviepy - Writing video /home/flowers/Desktop/python/tests/Swimmer-v4_CPG_test/seed_1/PPO_seed_1-episode-350.mp4\n",
      "\n"
     ]
    },
    {
     "name": "stderr",
     "output_type": "stream",
     "text": [
      "                                                                \r"
     ]
    },
    {
     "name": "stdout",
     "output_type": "stream",
     "text": [
      "Moviepy - Done !\n",
      "Moviepy - video ready /home/flowers/Desktop/python/tests/Swimmer-v4_CPG_test/seed_1/PPO_seed_1-episode-350.mp4\n",
      "Moviepy - Building video /home/flowers/Desktop/python/tests/Swimmer-v4_CPG_test/seed_1/PPO_seed_1-episode-375.mp4.\n",
      "Moviepy - Writing video /home/flowers/Desktop/python/tests/Swimmer-v4_CPG_test/seed_1/PPO_seed_1-episode-375.mp4\n",
      "\n"
     ]
    },
    {
     "name": "stderr",
     "output_type": "stream",
     "text": [
      "                                                                \r"
     ]
    },
    {
     "name": "stdout",
     "output_type": "stream",
     "text": [
      "Moviepy - Done !\n",
      "Moviepy - video ready /home/flowers/Desktop/python/tests/Swimmer-v4_CPG_test/seed_1/PPO_seed_1-episode-375.mp4\n",
      "Moviepy - Building video /home/flowers/Desktop/python/tests/Swimmer-v4_CPG_test/seed_1/PPO_seed_1-episode-400.mp4.\n",
      "Moviepy - Writing video /home/flowers/Desktop/python/tests/Swimmer-v4_CPG_test/seed_1/PPO_seed_1-episode-400.mp4\n",
      "\n"
     ]
    },
    {
     "name": "stderr",
     "output_type": "stream",
     "text": [
      "                                                                 \r"
     ]
    },
    {
     "name": "stdout",
     "output_type": "stream",
     "text": [
      "Moviepy - Done !\n",
      "Moviepy - video ready /home/flowers/Desktop/python/tests/Swimmer-v4_CPG_test/seed_1/PPO_seed_1-episode-400.mp4\n",
      "Moviepy - Building video /home/flowers/Desktop/python/tests/Swimmer-v4_CPG_test/seed_1/PPO_seed_1-episode-425.mp4.\n",
      "Moviepy - Writing video /home/flowers/Desktop/python/tests/Swimmer-v4_CPG_test/seed_1/PPO_seed_1-episode-425.mp4\n",
      "\n"
     ]
    },
    {
     "name": "stderr",
     "output_type": "stream",
     "text": [
      "                                                                 \r"
     ]
    },
    {
     "name": "stdout",
     "output_type": "stream",
     "text": [
      "Moviepy - Done !\n",
      "Moviepy - video ready /home/flowers/Desktop/python/tests/Swimmer-v4_CPG_test/seed_1/PPO_seed_1-episode-425.mp4\n",
      "Moviepy - Building video /home/flowers/Desktop/python/tests/Swimmer-v4_CPG_test/seed_1/PPO_seed_1-episode-450.mp4.\n",
      "Moviepy - Writing video /home/flowers/Desktop/python/tests/Swimmer-v4_CPG_test/seed_1/PPO_seed_1-episode-450.mp4\n",
      "\n"
     ]
    },
    {
     "name": "stderr",
     "output_type": "stream",
     "text": [
      "                                                                 \r"
     ]
    },
    {
     "name": "stdout",
     "output_type": "stream",
     "text": [
      "Moviepy - Done !\n",
      "Moviepy - video ready /home/flowers/Desktop/python/tests/Swimmer-v4_CPG_test/seed_1/PPO_seed_1-episode-450.mp4\n",
      "Moviepy - Building video /home/flowers/Desktop/python/tests/Swimmer-v4_CPG_test/seed_1/PPO_seed_1-episode-475.mp4.\n",
      "Moviepy - Writing video /home/flowers/Desktop/python/tests/Swimmer-v4_CPG_test/seed_1/PPO_seed_1-episode-475.mp4\n",
      "\n"
     ]
    },
    {
     "name": "stderr",
     "output_type": "stream",
     "text": [
      "                                                                \r"
     ]
    },
    {
     "name": "stdout",
     "output_type": "stream",
     "text": [
      "Moviepy - Done !\n",
      "Moviepy - video ready /home/flowers/Desktop/python/tests/Swimmer-v4_CPG_test/seed_1/PPO_seed_1-episode-475.mp4\n",
      "Moviepy - Building video /home/flowers/Desktop/python/tests/Swimmer-v4_CPG_test/seed_1/PPO_seed_1-episode-500.mp4.\n",
      "Moviepy - Writing video /home/flowers/Desktop/python/tests/Swimmer-v4_CPG_test/seed_1/PPO_seed_1-episode-500.mp4\n",
      "\n"
     ]
    },
    {
     "name": "stderr",
     "output_type": "stream",
     "text": [
      "                                                                \r"
     ]
    },
    {
     "name": "stdout",
     "output_type": "stream",
     "text": [
      "Moviepy - Done !\n",
      "Moviepy - video ready /home/flowers/Desktop/python/tests/Swimmer-v4_CPG_test/seed_1/PPO_seed_1-episode-500.mp4\n",
      "Moviepy - Building video /home/flowers/Desktop/python/tests/Swimmer-v4_CPG_test/seed_1/PPO_seed_1-episode-525.mp4.\n",
      "Moviepy - Writing video /home/flowers/Desktop/python/tests/Swimmer-v4_CPG_test/seed_1/PPO_seed_1-episode-525.mp4\n",
      "\n"
     ]
    },
    {
     "name": "stderr",
     "output_type": "stream",
     "text": [
      "                                                                \r"
     ]
    },
    {
     "name": "stdout",
     "output_type": "stream",
     "text": [
      "Moviepy - Done !\n",
      "Moviepy - video ready /home/flowers/Desktop/python/tests/Swimmer-v4_CPG_test/seed_1/PPO_seed_1-episode-525.mp4\n",
      "Moviepy - Building video /home/flowers/Desktop/python/tests/Swimmer-v4_CPG_test/seed_1/PPO_seed_1-episode-550.mp4.\n",
      "Moviepy - Writing video /home/flowers/Desktop/python/tests/Swimmer-v4_CPG_test/seed_1/PPO_seed_1-episode-550.mp4\n",
      "\n"
     ]
    },
    {
     "name": "stderr",
     "output_type": "stream",
     "text": [
      "                                                                \r"
     ]
    },
    {
     "name": "stdout",
     "output_type": "stream",
     "text": [
      "Moviepy - Done !\n",
      "Moviepy - video ready /home/flowers/Desktop/python/tests/Swimmer-v4_CPG_test/seed_1/PPO_seed_1-episode-550.mp4\n",
      "Moviepy - Building video /home/flowers/Desktop/python/tests/Swimmer-v4_CPG_test/seed_1/PPO_seed_1-episode-575.mp4.\n",
      "Moviepy - Writing video /home/flowers/Desktop/python/tests/Swimmer-v4_CPG_test/seed_1/PPO_seed_1-episode-575.mp4\n",
      "\n"
     ]
    },
    {
     "name": "stderr",
     "output_type": "stream",
     "text": [
      "                                                                \r"
     ]
    },
    {
     "name": "stdout",
     "output_type": "stream",
     "text": [
      "Moviepy - Done !\n",
      "Moviepy - video ready /home/flowers/Desktop/python/tests/Swimmer-v4_CPG_test/seed_1/PPO_seed_1-episode-575.mp4\n"
     ]
    },
    {
     "name": "stderr",
     "output_type": "stream",
     "text": [
      "/home/flowers/.local/lib/python3.10/site-packages/gymnasium/experimental/wrappers/rendering.py:169: UserWarning: \u001b[33mWARN: Overwriting existing videos at /home/flowers/Desktop/python/tests/Swimmer-v4_CPG_test/seed_1 folder (try specifying a different `video_folder` for the `RecordVideo` wrapper if this is not desired)\u001b[0m\n",
      "  logger.warn(\n"
     ]
    },
    {
     "name": "stdout",
     "output_type": "stream",
     "text": [
      "Moviepy - Building video /home/flowers/Desktop/python/tests/Swimmer-v4_CPG_test/seed_1/RES_PPO_seed_1-episode-0.mp4.\n",
      "Moviepy - Writing video /home/flowers/Desktop/python/tests/Swimmer-v4_CPG_test/seed_1/RES_PPO_seed_1-episode-0.mp4\n",
      "\n"
     ]
    },
    {
     "name": "stderr",
     "output_type": "stream",
     "text": [
      "                                                                \r"
     ]
    },
    {
     "name": "stdout",
     "output_type": "stream",
     "text": [
      "Moviepy - Done !\n",
      "Moviepy - video ready /home/flowers/Desktop/python/tests/Swimmer-v4_CPG_test/seed_1/RES_PPO_seed_1-episode-0.mp4\n",
      "Moviepy - Building video /home/flowers/Desktop/python/tests/Swimmer-v4_CPG_test/seed_1/RES_PPO_seed_1-episode-25.mp4.\n",
      "Moviepy - Writing video /home/flowers/Desktop/python/tests/Swimmer-v4_CPG_test/seed_1/RES_PPO_seed_1-episode-25.mp4\n",
      "\n"
     ]
    },
    {
     "name": "stderr",
     "output_type": "stream",
     "text": [
      "                                                                \r"
     ]
    },
    {
     "name": "stdout",
     "output_type": "stream",
     "text": [
      "Moviepy - Done !\n",
      "Moviepy - video ready /home/flowers/Desktop/python/tests/Swimmer-v4_CPG_test/seed_1/RES_PPO_seed_1-episode-25.mp4\n",
      "Moviepy - Building video /home/flowers/Desktop/python/tests/Swimmer-v4_CPG_test/seed_1/RES_PPO_seed_1-episode-50.mp4.\n",
      "Moviepy - Writing video /home/flowers/Desktop/python/tests/Swimmer-v4_CPG_test/seed_1/RES_PPO_seed_1-episode-50.mp4\n",
      "\n"
     ]
    },
    {
     "name": "stderr",
     "output_type": "stream",
     "text": [
      "                                                                \r"
     ]
    },
    {
     "name": "stdout",
     "output_type": "stream",
     "text": [
      "Moviepy - Done !\n",
      "Moviepy - video ready /home/flowers/Desktop/python/tests/Swimmer-v4_CPG_test/seed_1/RES_PPO_seed_1-episode-50.mp4\n",
      "Moviepy - Building video /home/flowers/Desktop/python/tests/Swimmer-v4_CPG_test/seed_1/RES_PPO_seed_1-episode-75.mp4.\n",
      "Moviepy - Writing video /home/flowers/Desktop/python/tests/Swimmer-v4_CPG_test/seed_1/RES_PPO_seed_1-episode-75.mp4\n",
      "\n"
     ]
    },
    {
     "name": "stderr",
     "output_type": "stream",
     "text": [
      "                                                                \r"
     ]
    },
    {
     "name": "stdout",
     "output_type": "stream",
     "text": [
      "Moviepy - Done !\n",
      "Moviepy - video ready /home/flowers/Desktop/python/tests/Swimmer-v4_CPG_test/seed_1/RES_PPO_seed_1-episode-75.mp4\n",
      "Moviepy - Building video /home/flowers/Desktop/python/tests/Swimmer-v4_CPG_test/seed_1/RES_PPO_seed_1-episode-100.mp4.\n",
      "Moviepy - Writing video /home/flowers/Desktop/python/tests/Swimmer-v4_CPG_test/seed_1/RES_PPO_seed_1-episode-100.mp4\n",
      "\n"
     ]
    },
    {
     "name": "stderr",
     "output_type": "stream",
     "text": [
      "                                                                \r"
     ]
    },
    {
     "name": "stdout",
     "output_type": "stream",
     "text": [
      "Moviepy - Done !\n",
      "Moviepy - video ready /home/flowers/Desktop/python/tests/Swimmer-v4_CPG_test/seed_1/RES_PPO_seed_1-episode-100.mp4\n",
      "Moviepy - Building video /home/flowers/Desktop/python/tests/Swimmer-v4_CPG_test/seed_1/RES_PPO_seed_1-episode-125.mp4.\n",
      "Moviepy - Writing video /home/flowers/Desktop/python/tests/Swimmer-v4_CPG_test/seed_1/RES_PPO_seed_1-episode-125.mp4\n",
      "\n"
     ]
    },
    {
     "name": "stderr",
     "output_type": "stream",
     "text": [
      "                                                                \r"
     ]
    },
    {
     "name": "stdout",
     "output_type": "stream",
     "text": [
      "Moviepy - Done !\n",
      "Moviepy - video ready /home/flowers/Desktop/python/tests/Swimmer-v4_CPG_test/seed_1/RES_PPO_seed_1-episode-125.mp4\n",
      "Moviepy - Building video /home/flowers/Desktop/python/tests/Swimmer-v4_CPG_test/seed_1/RES_PPO_seed_1-episode-150.mp4.\n",
      "Moviepy - Writing video /home/flowers/Desktop/python/tests/Swimmer-v4_CPG_test/seed_1/RES_PPO_seed_1-episode-150.mp4\n",
      "\n"
     ]
    },
    {
     "name": "stderr",
     "output_type": "stream",
     "text": [
      "                                                                \r"
     ]
    },
    {
     "name": "stdout",
     "output_type": "stream",
     "text": [
      "Moviepy - Done !\n",
      "Moviepy - video ready /home/flowers/Desktop/python/tests/Swimmer-v4_CPG_test/seed_1/RES_PPO_seed_1-episode-150.mp4\n",
      "Moviepy - Building video /home/flowers/Desktop/python/tests/Swimmer-v4_CPG_test/seed_1/RES_PPO_seed_1-episode-175.mp4.\n",
      "Moviepy - Writing video /home/flowers/Desktop/python/tests/Swimmer-v4_CPG_test/seed_1/RES_PPO_seed_1-episode-175.mp4\n",
      "\n"
     ]
    },
    {
     "name": "stderr",
     "output_type": "stream",
     "text": [
      "                                                                \r"
     ]
    },
    {
     "name": "stdout",
     "output_type": "stream",
     "text": [
      "Moviepy - Done !\n",
      "Moviepy - video ready /home/flowers/Desktop/python/tests/Swimmer-v4_CPG_test/seed_1/RES_PPO_seed_1-episode-175.mp4\n",
      "Moviepy - Building video /home/flowers/Desktop/python/tests/Swimmer-v4_CPG_test/seed_1/RES_PPO_seed_1-episode-200.mp4.\n",
      "Moviepy - Writing video /home/flowers/Desktop/python/tests/Swimmer-v4_CPG_test/seed_1/RES_PPO_seed_1-episode-200.mp4\n",
      "\n"
     ]
    },
    {
     "name": "stderr",
     "output_type": "stream",
     "text": [
      "                                                                \r"
     ]
    },
    {
     "name": "stdout",
     "output_type": "stream",
     "text": [
      "Moviepy - Done !\n",
      "Moviepy - video ready /home/flowers/Desktop/python/tests/Swimmer-v4_CPG_test/seed_1/RES_PPO_seed_1-episode-200.mp4\n",
      "Moviepy - Building video /home/flowers/Desktop/python/tests/Swimmer-v4_CPG_test/seed_1/RES_PPO_seed_1-episode-225.mp4.\n",
      "Moviepy - Writing video /home/flowers/Desktop/python/tests/Swimmer-v4_CPG_test/seed_1/RES_PPO_seed_1-episode-225.mp4\n",
      "\n"
     ]
    },
    {
     "name": "stderr",
     "output_type": "stream",
     "text": [
      "                                                                 \r"
     ]
    },
    {
     "name": "stdout",
     "output_type": "stream",
     "text": [
      "Moviepy - Done !\n",
      "Moviepy - video ready /home/flowers/Desktop/python/tests/Swimmer-v4_CPG_test/seed_1/RES_PPO_seed_1-episode-225.mp4\n",
      "Moviepy - Building video /home/flowers/Desktop/python/tests/Swimmer-v4_CPG_test/seed_1/RES_PPO_seed_1-episode-250.mp4.\n",
      "Moviepy - Writing video /home/flowers/Desktop/python/tests/Swimmer-v4_CPG_test/seed_1/RES_PPO_seed_1-episode-250.mp4\n",
      "\n"
     ]
    },
    {
     "name": "stderr",
     "output_type": "stream",
     "text": [
      "                                                                \r"
     ]
    },
    {
     "name": "stdout",
     "output_type": "stream",
     "text": [
      "Moviepy - Done !\n",
      "Moviepy - video ready /home/flowers/Desktop/python/tests/Swimmer-v4_CPG_test/seed_1/RES_PPO_seed_1-episode-250.mp4\n",
      "Moviepy - Building video /home/flowers/Desktop/python/tests/Swimmer-v4_CPG_test/seed_1/RES_PPO_seed_1-episode-275.mp4.\n",
      "Moviepy - Writing video /home/flowers/Desktop/python/tests/Swimmer-v4_CPG_test/seed_1/RES_PPO_seed_1-episode-275.mp4\n",
      "\n"
     ]
    },
    {
     "name": "stderr",
     "output_type": "stream",
     "text": [
      "                                                                \r"
     ]
    },
    {
     "name": "stdout",
     "output_type": "stream",
     "text": [
      "Moviepy - Done !\n",
      "Moviepy - video ready /home/flowers/Desktop/python/tests/Swimmer-v4_CPG_test/seed_1/RES_PPO_seed_1-episode-275.mp4\n",
      "Moviepy - Building video /home/flowers/Desktop/python/tests/Swimmer-v4_CPG_test/seed_1/RES_PPO_seed_1-episode-300.mp4.\n",
      "Moviepy - Writing video /home/flowers/Desktop/python/tests/Swimmer-v4_CPG_test/seed_1/RES_PPO_seed_1-episode-300.mp4\n",
      "\n"
     ]
    },
    {
     "name": "stderr",
     "output_type": "stream",
     "text": [
      "                                                                \r"
     ]
    },
    {
     "name": "stdout",
     "output_type": "stream",
     "text": [
      "Moviepy - Done !\n",
      "Moviepy - video ready /home/flowers/Desktop/python/tests/Swimmer-v4_CPG_test/seed_1/RES_PPO_seed_1-episode-300.mp4\n",
      "Moviepy - Building video /home/flowers/Desktop/python/tests/Swimmer-v4_CPG_test/seed_1/RES_PPO_seed_1-episode-325.mp4.\n",
      "Moviepy - Writing video /home/flowers/Desktop/python/tests/Swimmer-v4_CPG_test/seed_1/RES_PPO_seed_1-episode-325.mp4\n",
      "\n"
     ]
    },
    {
     "name": "stderr",
     "output_type": "stream",
     "text": [
      "                                                                \r"
     ]
    },
    {
     "name": "stdout",
     "output_type": "stream",
     "text": [
      "Moviepy - Done !\n",
      "Moviepy - video ready /home/flowers/Desktop/python/tests/Swimmer-v4_CPG_test/seed_1/RES_PPO_seed_1-episode-325.mp4\n",
      "Moviepy - Building video /home/flowers/Desktop/python/tests/Swimmer-v4_CPG_test/seed_1/RES_PPO_seed_1-episode-350.mp4.\n",
      "Moviepy - Writing video /home/flowers/Desktop/python/tests/Swimmer-v4_CPG_test/seed_1/RES_PPO_seed_1-episode-350.mp4\n",
      "\n"
     ]
    },
    {
     "name": "stderr",
     "output_type": "stream",
     "text": [
      "                                                                 \r"
     ]
    },
    {
     "name": "stdout",
     "output_type": "stream",
     "text": [
      "Moviepy - Done !\n",
      "Moviepy - video ready /home/flowers/Desktop/python/tests/Swimmer-v4_CPG_test/seed_1/RES_PPO_seed_1-episode-350.mp4\n",
      "Moviepy - Building video /home/flowers/Desktop/python/tests/Swimmer-v4_CPG_test/seed_1/RES_PPO_seed_1-episode-375.mp4.\n",
      "Moviepy - Writing video /home/flowers/Desktop/python/tests/Swimmer-v4_CPG_test/seed_1/RES_PPO_seed_1-episode-375.mp4\n",
      "\n"
     ]
    },
    {
     "name": "stderr",
     "output_type": "stream",
     "text": [
      "                                                                \r"
     ]
    },
    {
     "name": "stdout",
     "output_type": "stream",
     "text": [
      "Moviepy - Done !\n",
      "Moviepy - video ready /home/flowers/Desktop/python/tests/Swimmer-v4_CPG_test/seed_1/RES_PPO_seed_1-episode-375.mp4\n",
      "Moviepy - Building video /home/flowers/Desktop/python/tests/Swimmer-v4_CPG_test/seed_1/RES_PPO_seed_1-episode-400.mp4.\n",
      "Moviepy - Writing video /home/flowers/Desktop/python/tests/Swimmer-v4_CPG_test/seed_1/RES_PPO_seed_1-episode-400.mp4\n",
      "\n"
     ]
    },
    {
     "name": "stderr",
     "output_type": "stream",
     "text": [
      "                                                                \r"
     ]
    },
    {
     "name": "stdout",
     "output_type": "stream",
     "text": [
      "Moviepy - Done !\n",
      "Moviepy - video ready /home/flowers/Desktop/python/tests/Swimmer-v4_CPG_test/seed_1/RES_PPO_seed_1-episode-400.mp4\n",
      "Moviepy - Building video /home/flowers/Desktop/python/tests/Swimmer-v4_CPG_test/seed_1/RES_PPO_seed_1-episode-425.mp4.\n",
      "Moviepy - Writing video /home/flowers/Desktop/python/tests/Swimmer-v4_CPG_test/seed_1/RES_PPO_seed_1-episode-425.mp4\n",
      "\n"
     ]
    },
    {
     "name": "stderr",
     "output_type": "stream",
     "text": [
      "                                                                \r"
     ]
    },
    {
     "name": "stdout",
     "output_type": "stream",
     "text": [
      "Moviepy - Done !\n",
      "Moviepy - video ready /home/flowers/Desktop/python/tests/Swimmer-v4_CPG_test/seed_1/RES_PPO_seed_1-episode-425.mp4\n",
      "Moviepy - Building video /home/flowers/Desktop/python/tests/Swimmer-v4_CPG_test/seed_1/RES_PPO_seed_1-episode-450.mp4.\n",
      "Moviepy - Writing video /home/flowers/Desktop/python/tests/Swimmer-v4_CPG_test/seed_1/RES_PPO_seed_1-episode-450.mp4\n",
      "\n"
     ]
    },
    {
     "name": "stderr",
     "output_type": "stream",
     "text": [
      "                                                                \r"
     ]
    },
    {
     "name": "stdout",
     "output_type": "stream",
     "text": [
      "Moviepy - Done !\n",
      "Moviepy - video ready /home/flowers/Desktop/python/tests/Swimmer-v4_CPG_test/seed_1/RES_PPO_seed_1-episode-450.mp4\n",
      "Moviepy - Building video /home/flowers/Desktop/python/tests/Swimmer-v4_CPG_test/seed_1/RES_PPO_seed_1-episode-475.mp4.\n",
      "Moviepy - Writing video /home/flowers/Desktop/python/tests/Swimmer-v4_CPG_test/seed_1/RES_PPO_seed_1-episode-475.mp4\n",
      "\n"
     ]
    },
    {
     "name": "stderr",
     "output_type": "stream",
     "text": [
      "                                                                 \r"
     ]
    },
    {
     "name": "stdout",
     "output_type": "stream",
     "text": [
      "Moviepy - Done !\n",
      "Moviepy - video ready /home/flowers/Desktop/python/tests/Swimmer-v4_CPG_test/seed_1/RES_PPO_seed_1-episode-475.mp4\n",
      "Moviepy - Building video /home/flowers/Desktop/python/tests/Swimmer-v4_CPG_test/seed_1/RES_PPO_seed_1-episode-500.mp4.\n",
      "Moviepy - Writing video /home/flowers/Desktop/python/tests/Swimmer-v4_CPG_test/seed_1/RES_PPO_seed_1-episode-500.mp4\n",
      "\n"
     ]
    },
    {
     "name": "stderr",
     "output_type": "stream",
     "text": [
      "                                                                \r"
     ]
    },
    {
     "name": "stdout",
     "output_type": "stream",
     "text": [
      "Moviepy - Done !\n",
      "Moviepy - video ready /home/flowers/Desktop/python/tests/Swimmer-v4_CPG_test/seed_1/RES_PPO_seed_1-episode-500.mp4\n",
      "Moviepy - Building video /home/flowers/Desktop/python/tests/Swimmer-v4_CPG_test/seed_1/RES_PPO_seed_1-episode-525.mp4.\n",
      "Moviepy - Writing video /home/flowers/Desktop/python/tests/Swimmer-v4_CPG_test/seed_1/RES_PPO_seed_1-episode-525.mp4\n",
      "\n"
     ]
    },
    {
     "name": "stderr",
     "output_type": "stream",
     "text": [
      "                                                                \r"
     ]
    },
    {
     "name": "stdout",
     "output_type": "stream",
     "text": [
      "Moviepy - Done !\n",
      "Moviepy - video ready /home/flowers/Desktop/python/tests/Swimmer-v4_CPG_test/seed_1/RES_PPO_seed_1-episode-525.mp4\n",
      "Moviepy - Building video /home/flowers/Desktop/python/tests/Swimmer-v4_CPG_test/seed_1/RES_PPO_seed_1-episode-550.mp4.\n",
      "Moviepy - Writing video /home/flowers/Desktop/python/tests/Swimmer-v4_CPG_test/seed_1/RES_PPO_seed_1-episode-550.mp4\n",
      "\n"
     ]
    },
    {
     "name": "stderr",
     "output_type": "stream",
     "text": [
      "                                                                \r"
     ]
    },
    {
     "name": "stdout",
     "output_type": "stream",
     "text": [
      "Moviepy - Done !\n",
      "Moviepy - video ready /home/flowers/Desktop/python/tests/Swimmer-v4_CPG_test/seed_1/RES_PPO_seed_1-episode-550.mp4\n",
      "Moviepy - Building video /home/flowers/Desktop/python/tests/Swimmer-v4_CPG_test/seed_1/RES_PPO_seed_1-episode-575.mp4.\n",
      "Moviepy - Writing video /home/flowers/Desktop/python/tests/Swimmer-v4_CPG_test/seed_1/RES_PPO_seed_1-episode-575.mp4\n",
      "\n"
     ]
    },
    {
     "name": "stderr",
     "output_type": "stream",
     "text": [
      "                                                                \r"
     ]
    },
    {
     "name": "stdout",
     "output_type": "stream",
     "text": [
      "Moviepy - Done !\n",
      "Moviepy - video ready /home/flowers/Desktop/python/tests/Swimmer-v4_CPG_test/seed_1/RES_PPO_seed_1-episode-575.mp4\n",
      "Seed 1 done\n",
      "Moviepy - Building video /home/flowers/Desktop/python/tests/Swimmer-v4_CPG_test/seed_2/PPO_seed_2-episode-0.mp4.\n",
      "Moviepy - Writing video /home/flowers/Desktop/python/tests/Swimmer-v4_CPG_test/seed_2/PPO_seed_2-episode-0.mp4\n",
      "\n"
     ]
    },
    {
     "name": "stderr",
     "output_type": "stream",
     "text": [
      "                                                                \r"
     ]
    },
    {
     "name": "stdout",
     "output_type": "stream",
     "text": [
      "Moviepy - Done !\n",
      "Moviepy - video ready /home/flowers/Desktop/python/tests/Swimmer-v4_CPG_test/seed_2/PPO_seed_2-episode-0.mp4\n",
      "Moviepy - Building video /home/flowers/Desktop/python/tests/Swimmer-v4_CPG_test/seed_2/PPO_seed_2-episode-25.mp4.\n",
      "Moviepy - Writing video /home/flowers/Desktop/python/tests/Swimmer-v4_CPG_test/seed_2/PPO_seed_2-episode-25.mp4\n",
      "\n"
     ]
    },
    {
     "name": "stderr",
     "output_type": "stream",
     "text": [
      "                                                                \r"
     ]
    },
    {
     "name": "stdout",
     "output_type": "stream",
     "text": [
      "Moviepy - Done !\n",
      "Moviepy - video ready /home/flowers/Desktop/python/tests/Swimmer-v4_CPG_test/seed_2/PPO_seed_2-episode-25.mp4\n",
      "Moviepy - Building video /home/flowers/Desktop/python/tests/Swimmer-v4_CPG_test/seed_2/PPO_seed_2-episode-50.mp4.\n",
      "Moviepy - Writing video /home/flowers/Desktop/python/tests/Swimmer-v4_CPG_test/seed_2/PPO_seed_2-episode-50.mp4\n",
      "\n"
     ]
    },
    {
     "name": "stderr",
     "output_type": "stream",
     "text": [
      "                                                                \r"
     ]
    },
    {
     "name": "stdout",
     "output_type": "stream",
     "text": [
      "Moviepy - Done !\n",
      "Moviepy - video ready /home/flowers/Desktop/python/tests/Swimmer-v4_CPG_test/seed_2/PPO_seed_2-episode-50.mp4\n",
      "Moviepy - Building video /home/flowers/Desktop/python/tests/Swimmer-v4_CPG_test/seed_2/PPO_seed_2-episode-75.mp4.\n",
      "Moviepy - Writing video /home/flowers/Desktop/python/tests/Swimmer-v4_CPG_test/seed_2/PPO_seed_2-episode-75.mp4\n",
      "\n"
     ]
    },
    {
     "name": "stderr",
     "output_type": "stream",
     "text": [
      "                                                                \r"
     ]
    },
    {
     "name": "stdout",
     "output_type": "stream",
     "text": [
      "Moviepy - Done !\n",
      "Moviepy - video ready /home/flowers/Desktop/python/tests/Swimmer-v4_CPG_test/seed_2/PPO_seed_2-episode-75.mp4\n",
      "Moviepy - Building video /home/flowers/Desktop/python/tests/Swimmer-v4_CPG_test/seed_2/PPO_seed_2-episode-100.mp4.\n",
      "Moviepy - Writing video /home/flowers/Desktop/python/tests/Swimmer-v4_CPG_test/seed_2/PPO_seed_2-episode-100.mp4\n",
      "\n"
     ]
    },
    {
     "name": "stderr",
     "output_type": "stream",
     "text": [
      "                                                                 \r"
     ]
    },
    {
     "name": "stdout",
     "output_type": "stream",
     "text": [
      "Moviepy - Done !\n",
      "Moviepy - video ready /home/flowers/Desktop/python/tests/Swimmer-v4_CPG_test/seed_2/PPO_seed_2-episode-100.mp4\n",
      "Moviepy - Building video /home/flowers/Desktop/python/tests/Swimmer-v4_CPG_test/seed_2/PPO_seed_2-episode-125.mp4.\n",
      "Moviepy - Writing video /home/flowers/Desktop/python/tests/Swimmer-v4_CPG_test/seed_2/PPO_seed_2-episode-125.mp4\n",
      "\n"
     ]
    },
    {
     "name": "stderr",
     "output_type": "stream",
     "text": [
      "                                                                \r"
     ]
    },
    {
     "name": "stdout",
     "output_type": "stream",
     "text": [
      "Moviepy - Done !\n",
      "Moviepy - video ready /home/flowers/Desktop/python/tests/Swimmer-v4_CPG_test/seed_2/PPO_seed_2-episode-125.mp4\n",
      "Moviepy - Building video /home/flowers/Desktop/python/tests/Swimmer-v4_CPG_test/seed_2/PPO_seed_2-episode-150.mp4.\n",
      "Moviepy - Writing video /home/flowers/Desktop/python/tests/Swimmer-v4_CPG_test/seed_2/PPO_seed_2-episode-150.mp4\n",
      "\n"
     ]
    },
    {
     "name": "stderr",
     "output_type": "stream",
     "text": [
      "                                                                \r"
     ]
    },
    {
     "name": "stdout",
     "output_type": "stream",
     "text": [
      "Moviepy - Done !\n",
      "Moviepy - video ready /home/flowers/Desktop/python/tests/Swimmer-v4_CPG_test/seed_2/PPO_seed_2-episode-150.mp4\n",
      "Moviepy - Building video /home/flowers/Desktop/python/tests/Swimmer-v4_CPG_test/seed_2/PPO_seed_2-episode-175.mp4.\n",
      "Moviepy - Writing video /home/flowers/Desktop/python/tests/Swimmer-v4_CPG_test/seed_2/PPO_seed_2-episode-175.mp4\n",
      "\n"
     ]
    },
    {
     "name": "stderr",
     "output_type": "stream",
     "text": [
      "                                                                 \r"
     ]
    },
    {
     "name": "stdout",
     "output_type": "stream",
     "text": [
      "Moviepy - Done !\n",
      "Moviepy - video ready /home/flowers/Desktop/python/tests/Swimmer-v4_CPG_test/seed_2/PPO_seed_2-episode-175.mp4\n",
      "Moviepy - Building video /home/flowers/Desktop/python/tests/Swimmer-v4_CPG_test/seed_2/PPO_seed_2-episode-200.mp4.\n",
      "Moviepy - Writing video /home/flowers/Desktop/python/tests/Swimmer-v4_CPG_test/seed_2/PPO_seed_2-episode-200.mp4\n",
      "\n"
     ]
    },
    {
     "name": "stderr",
     "output_type": "stream",
     "text": [
      "                                                                \r"
     ]
    },
    {
     "name": "stdout",
     "output_type": "stream",
     "text": [
      "Moviepy - Done !\n",
      "Moviepy - video ready /home/flowers/Desktop/python/tests/Swimmer-v4_CPG_test/seed_2/PPO_seed_2-episode-200.mp4\n",
      "Moviepy - Building video /home/flowers/Desktop/python/tests/Swimmer-v4_CPG_test/seed_2/PPO_seed_2-episode-225.mp4.\n",
      "Moviepy - Writing video /home/flowers/Desktop/python/tests/Swimmer-v4_CPG_test/seed_2/PPO_seed_2-episode-225.mp4\n",
      "\n"
     ]
    },
    {
     "name": "stderr",
     "output_type": "stream",
     "text": [
      "                                                                \r"
     ]
    },
    {
     "name": "stdout",
     "output_type": "stream",
     "text": [
      "Moviepy - Done !\n",
      "Moviepy - video ready /home/flowers/Desktop/python/tests/Swimmer-v4_CPG_test/seed_2/PPO_seed_2-episode-225.mp4\n",
      "Moviepy - Building video /home/flowers/Desktop/python/tests/Swimmer-v4_CPG_test/seed_2/PPO_seed_2-episode-250.mp4.\n",
      "Moviepy - Writing video /home/flowers/Desktop/python/tests/Swimmer-v4_CPG_test/seed_2/PPO_seed_2-episode-250.mp4\n",
      "\n"
     ]
    },
    {
     "name": "stderr",
     "output_type": "stream",
     "text": [
      "                                                                \r"
     ]
    },
    {
     "name": "stdout",
     "output_type": "stream",
     "text": [
      "Moviepy - Done !\n",
      "Moviepy - video ready /home/flowers/Desktop/python/tests/Swimmer-v4_CPG_test/seed_2/PPO_seed_2-episode-250.mp4\n",
      "Moviepy - Building video /home/flowers/Desktop/python/tests/Swimmer-v4_CPG_test/seed_2/PPO_seed_2-episode-275.mp4.\n",
      "Moviepy - Writing video /home/flowers/Desktop/python/tests/Swimmer-v4_CPG_test/seed_2/PPO_seed_2-episode-275.mp4\n",
      "\n"
     ]
    },
    {
     "name": "stderr",
     "output_type": "stream",
     "text": [
      "                                                                \r"
     ]
    },
    {
     "name": "stdout",
     "output_type": "stream",
     "text": [
      "Moviepy - Done !\n",
      "Moviepy - video ready /home/flowers/Desktop/python/tests/Swimmer-v4_CPG_test/seed_2/PPO_seed_2-episode-275.mp4\n",
      "Moviepy - Building video /home/flowers/Desktop/python/tests/Swimmer-v4_CPG_test/seed_2/PPO_seed_2-episode-300.mp4.\n",
      "Moviepy - Writing video /home/flowers/Desktop/python/tests/Swimmer-v4_CPG_test/seed_2/PPO_seed_2-episode-300.mp4\n",
      "\n"
     ]
    },
    {
     "name": "stderr",
     "output_type": "stream",
     "text": [
      "                                                                \r"
     ]
    },
    {
     "name": "stdout",
     "output_type": "stream",
     "text": [
      "Moviepy - Done !\n",
      "Moviepy - video ready /home/flowers/Desktop/python/tests/Swimmer-v4_CPG_test/seed_2/PPO_seed_2-episode-300.mp4\n",
      "Moviepy - Building video /home/flowers/Desktop/python/tests/Swimmer-v4_CPG_test/seed_2/PPO_seed_2-episode-325.mp4.\n",
      "Moviepy - Writing video /home/flowers/Desktop/python/tests/Swimmer-v4_CPG_test/seed_2/PPO_seed_2-episode-325.mp4\n",
      "\n"
     ]
    },
    {
     "name": "stderr",
     "output_type": "stream",
     "text": [
      "                                                                \r"
     ]
    },
    {
     "name": "stdout",
     "output_type": "stream",
     "text": [
      "Moviepy - Done !\n",
      "Moviepy - video ready /home/flowers/Desktop/python/tests/Swimmer-v4_CPG_test/seed_2/PPO_seed_2-episode-325.mp4\n",
      "Moviepy - Building video /home/flowers/Desktop/python/tests/Swimmer-v4_CPG_test/seed_2/PPO_seed_2-episode-350.mp4.\n",
      "Moviepy - Writing video /home/flowers/Desktop/python/tests/Swimmer-v4_CPG_test/seed_2/PPO_seed_2-episode-350.mp4\n",
      "\n"
     ]
    },
    {
     "name": "stderr",
     "output_type": "stream",
     "text": [
      "                                                                \r"
     ]
    },
    {
     "name": "stdout",
     "output_type": "stream",
     "text": [
      "Moviepy - Done !\n",
      "Moviepy - video ready /home/flowers/Desktop/python/tests/Swimmer-v4_CPG_test/seed_2/PPO_seed_2-episode-350.mp4\n",
      "Moviepy - Building video /home/flowers/Desktop/python/tests/Swimmer-v4_CPG_test/seed_2/PPO_seed_2-episode-375.mp4.\n",
      "Moviepy - Writing video /home/flowers/Desktop/python/tests/Swimmer-v4_CPG_test/seed_2/PPO_seed_2-episode-375.mp4\n",
      "\n"
     ]
    },
    {
     "name": "stderr",
     "output_type": "stream",
     "text": [
      "                                                                \r"
     ]
    },
    {
     "name": "stdout",
     "output_type": "stream",
     "text": [
      "Moviepy - Done !\n",
      "Moviepy - video ready /home/flowers/Desktop/python/tests/Swimmer-v4_CPG_test/seed_2/PPO_seed_2-episode-375.mp4\n",
      "Moviepy - Building video /home/flowers/Desktop/python/tests/Swimmer-v4_CPG_test/seed_2/PPO_seed_2-episode-400.mp4.\n",
      "Moviepy - Writing video /home/flowers/Desktop/python/tests/Swimmer-v4_CPG_test/seed_2/PPO_seed_2-episode-400.mp4\n",
      "\n"
     ]
    },
    {
     "name": "stderr",
     "output_type": "stream",
     "text": [
      "                                                                \r"
     ]
    },
    {
     "name": "stdout",
     "output_type": "stream",
     "text": [
      "Moviepy - Done !\n",
      "Moviepy - video ready /home/flowers/Desktop/python/tests/Swimmer-v4_CPG_test/seed_2/PPO_seed_2-episode-400.mp4\n",
      "Moviepy - Building video /home/flowers/Desktop/python/tests/Swimmer-v4_CPG_test/seed_2/PPO_seed_2-episode-425.mp4.\n",
      "Moviepy - Writing video /home/flowers/Desktop/python/tests/Swimmer-v4_CPG_test/seed_2/PPO_seed_2-episode-425.mp4\n",
      "\n"
     ]
    },
    {
     "name": "stderr",
     "output_type": "stream",
     "text": [
      "                                                                \r"
     ]
    },
    {
     "name": "stdout",
     "output_type": "stream",
     "text": [
      "Moviepy - Done !\n",
      "Moviepy - video ready /home/flowers/Desktop/python/tests/Swimmer-v4_CPG_test/seed_2/PPO_seed_2-episode-425.mp4\n",
      "Moviepy - Building video /home/flowers/Desktop/python/tests/Swimmer-v4_CPG_test/seed_2/PPO_seed_2-episode-450.mp4.\n",
      "Moviepy - Writing video /home/flowers/Desktop/python/tests/Swimmer-v4_CPG_test/seed_2/PPO_seed_2-episode-450.mp4\n",
      "\n"
     ]
    },
    {
     "name": "stderr",
     "output_type": "stream",
     "text": [
      "                                                                \r"
     ]
    },
    {
     "name": "stdout",
     "output_type": "stream",
     "text": [
      "Moviepy - Done !\n",
      "Moviepy - video ready /home/flowers/Desktop/python/tests/Swimmer-v4_CPG_test/seed_2/PPO_seed_2-episode-450.mp4\n",
      "Moviepy - Building video /home/flowers/Desktop/python/tests/Swimmer-v4_CPG_test/seed_2/PPO_seed_2-episode-475.mp4.\n",
      "Moviepy - Writing video /home/flowers/Desktop/python/tests/Swimmer-v4_CPG_test/seed_2/PPO_seed_2-episode-475.mp4\n",
      "\n"
     ]
    },
    {
     "name": "stderr",
     "output_type": "stream",
     "text": [
      "                                                                \r"
     ]
    },
    {
     "name": "stdout",
     "output_type": "stream",
     "text": [
      "Moviepy - Done !\n",
      "Moviepy - video ready /home/flowers/Desktop/python/tests/Swimmer-v4_CPG_test/seed_2/PPO_seed_2-episode-475.mp4\n",
      "Moviepy - Building video /home/flowers/Desktop/python/tests/Swimmer-v4_CPG_test/seed_2/PPO_seed_2-episode-500.mp4.\n",
      "Moviepy - Writing video /home/flowers/Desktop/python/tests/Swimmer-v4_CPG_test/seed_2/PPO_seed_2-episode-500.mp4\n",
      "\n"
     ]
    },
    {
     "name": "stderr",
     "output_type": "stream",
     "text": [
      "                                                                \r"
     ]
    },
    {
     "name": "stdout",
     "output_type": "stream",
     "text": [
      "Moviepy - Done !\n",
      "Moviepy - video ready /home/flowers/Desktop/python/tests/Swimmer-v4_CPG_test/seed_2/PPO_seed_2-episode-500.mp4\n",
      "Moviepy - Building video /home/flowers/Desktop/python/tests/Swimmer-v4_CPG_test/seed_2/PPO_seed_2-episode-525.mp4.\n",
      "Moviepy - Writing video /home/flowers/Desktop/python/tests/Swimmer-v4_CPG_test/seed_2/PPO_seed_2-episode-525.mp4\n",
      "\n"
     ]
    },
    {
     "name": "stderr",
     "output_type": "stream",
     "text": [
      "                                                                \r"
     ]
    },
    {
     "name": "stdout",
     "output_type": "stream",
     "text": [
      "Moviepy - Done !\n",
      "Moviepy - video ready /home/flowers/Desktop/python/tests/Swimmer-v4_CPG_test/seed_2/PPO_seed_2-episode-525.mp4\n",
      "Moviepy - Building video /home/flowers/Desktop/python/tests/Swimmer-v4_CPG_test/seed_2/PPO_seed_2-episode-550.mp4.\n",
      "Moviepy - Writing video /home/flowers/Desktop/python/tests/Swimmer-v4_CPG_test/seed_2/PPO_seed_2-episode-550.mp4\n",
      "\n"
     ]
    },
    {
     "name": "stderr",
     "output_type": "stream",
     "text": [
      "                                                                \r"
     ]
    },
    {
     "name": "stdout",
     "output_type": "stream",
     "text": [
      "Moviepy - Done !\n",
      "Moviepy - video ready /home/flowers/Desktop/python/tests/Swimmer-v4_CPG_test/seed_2/PPO_seed_2-episode-550.mp4\n",
      "Moviepy - Building video /home/flowers/Desktop/python/tests/Swimmer-v4_CPG_test/seed_2/PPO_seed_2-episode-575.mp4.\n",
      "Moviepy - Writing video /home/flowers/Desktop/python/tests/Swimmer-v4_CPG_test/seed_2/PPO_seed_2-episode-575.mp4\n",
      "\n"
     ]
    },
    {
     "name": "stderr",
     "output_type": "stream",
     "text": [
      "                                                                \r"
     ]
    },
    {
     "name": "stdout",
     "output_type": "stream",
     "text": [
      "Moviepy - Done !\n",
      "Moviepy - video ready /home/flowers/Desktop/python/tests/Swimmer-v4_CPG_test/seed_2/PPO_seed_2-episode-575.mp4\n"
     ]
    },
    {
     "name": "stderr",
     "output_type": "stream",
     "text": [
      "/home/flowers/.local/lib/python3.10/site-packages/gymnasium/experimental/wrappers/rendering.py:169: UserWarning: \u001b[33mWARN: Overwriting existing videos at /home/flowers/Desktop/python/tests/Swimmer-v4_CPG_test/seed_2 folder (try specifying a different `video_folder` for the `RecordVideo` wrapper if this is not desired)\u001b[0m\n",
      "  logger.warn(\n"
     ]
    },
    {
     "name": "stdout",
     "output_type": "stream",
     "text": [
      "Moviepy - Building video /home/flowers/Desktop/python/tests/Swimmer-v4_CPG_test/seed_2/RES_PPO_seed_2-episode-0.mp4.\n",
      "Moviepy - Writing video /home/flowers/Desktop/python/tests/Swimmer-v4_CPG_test/seed_2/RES_PPO_seed_2-episode-0.mp4\n",
      "\n"
     ]
    },
    {
     "name": "stderr",
     "output_type": "stream",
     "text": [
      "                                                                \r"
     ]
    },
    {
     "name": "stdout",
     "output_type": "stream",
     "text": [
      "Moviepy - Done !\n",
      "Moviepy - video ready /home/flowers/Desktop/python/tests/Swimmer-v4_CPG_test/seed_2/RES_PPO_seed_2-episode-0.mp4\n",
      "Moviepy - Building video /home/flowers/Desktop/python/tests/Swimmer-v4_CPG_test/seed_2/RES_PPO_seed_2-episode-25.mp4.\n",
      "Moviepy - Writing video /home/flowers/Desktop/python/tests/Swimmer-v4_CPG_test/seed_2/RES_PPO_seed_2-episode-25.mp4\n",
      "\n"
     ]
    },
    {
     "name": "stderr",
     "output_type": "stream",
     "text": [
      "                                                                \r"
     ]
    },
    {
     "name": "stdout",
     "output_type": "stream",
     "text": [
      "Moviepy - Done !\n",
      "Moviepy - video ready /home/flowers/Desktop/python/tests/Swimmer-v4_CPG_test/seed_2/RES_PPO_seed_2-episode-25.mp4\n",
      "Moviepy - Building video /home/flowers/Desktop/python/tests/Swimmer-v4_CPG_test/seed_2/RES_PPO_seed_2-episode-50.mp4.\n",
      "Moviepy - Writing video /home/flowers/Desktop/python/tests/Swimmer-v4_CPG_test/seed_2/RES_PPO_seed_2-episode-50.mp4\n",
      "\n"
     ]
    },
    {
     "name": "stderr",
     "output_type": "stream",
     "text": [
      "                                                                \r"
     ]
    },
    {
     "name": "stdout",
     "output_type": "stream",
     "text": [
      "Moviepy - Done !\n",
      "Moviepy - video ready /home/flowers/Desktop/python/tests/Swimmer-v4_CPG_test/seed_2/RES_PPO_seed_2-episode-50.mp4\n",
      "Moviepy - Building video /home/flowers/Desktop/python/tests/Swimmer-v4_CPG_test/seed_2/RES_PPO_seed_2-episode-75.mp4.\n",
      "Moviepy - Writing video /home/flowers/Desktop/python/tests/Swimmer-v4_CPG_test/seed_2/RES_PPO_seed_2-episode-75.mp4\n",
      "\n"
     ]
    },
    {
     "name": "stderr",
     "output_type": "stream",
     "text": [
      "                                                                \r"
     ]
    },
    {
     "name": "stdout",
     "output_type": "stream",
     "text": [
      "Moviepy - Done !\n",
      "Moviepy - video ready /home/flowers/Desktop/python/tests/Swimmer-v4_CPG_test/seed_2/RES_PPO_seed_2-episode-75.mp4\n",
      "Moviepy - Building video /home/flowers/Desktop/python/tests/Swimmer-v4_CPG_test/seed_2/RES_PPO_seed_2-episode-100.mp4.\n",
      "Moviepy - Writing video /home/flowers/Desktop/python/tests/Swimmer-v4_CPG_test/seed_2/RES_PPO_seed_2-episode-100.mp4\n",
      "\n"
     ]
    },
    {
     "name": "stderr",
     "output_type": "stream",
     "text": [
      "                                                                \r"
     ]
    },
    {
     "name": "stdout",
     "output_type": "stream",
     "text": [
      "Moviepy - Done !\n",
      "Moviepy - video ready /home/flowers/Desktop/python/tests/Swimmer-v4_CPG_test/seed_2/RES_PPO_seed_2-episode-100.mp4\n",
      "Moviepy - Building video /home/flowers/Desktop/python/tests/Swimmer-v4_CPG_test/seed_2/RES_PPO_seed_2-episode-125.mp4.\n",
      "Moviepy - Writing video /home/flowers/Desktop/python/tests/Swimmer-v4_CPG_test/seed_2/RES_PPO_seed_2-episode-125.mp4\n",
      "\n"
     ]
    },
    {
     "name": "stderr",
     "output_type": "stream",
     "text": [
      "                                                                \r"
     ]
    },
    {
     "name": "stdout",
     "output_type": "stream",
     "text": [
      "Moviepy - Done !\n",
      "Moviepy - video ready /home/flowers/Desktop/python/tests/Swimmer-v4_CPG_test/seed_2/RES_PPO_seed_2-episode-125.mp4\n",
      "Moviepy - Building video /home/flowers/Desktop/python/tests/Swimmer-v4_CPG_test/seed_2/RES_PPO_seed_2-episode-150.mp4.\n",
      "Moviepy - Writing video /home/flowers/Desktop/python/tests/Swimmer-v4_CPG_test/seed_2/RES_PPO_seed_2-episode-150.mp4\n",
      "\n"
     ]
    },
    {
     "name": "stderr",
     "output_type": "stream",
     "text": [
      "                                                                \r"
     ]
    },
    {
     "name": "stdout",
     "output_type": "stream",
     "text": [
      "Moviepy - Done !\n",
      "Moviepy - video ready /home/flowers/Desktop/python/tests/Swimmer-v4_CPG_test/seed_2/RES_PPO_seed_2-episode-150.mp4\n",
      "Moviepy - Building video /home/flowers/Desktop/python/tests/Swimmer-v4_CPG_test/seed_2/RES_PPO_seed_2-episode-175.mp4.\n",
      "Moviepy - Writing video /home/flowers/Desktop/python/tests/Swimmer-v4_CPG_test/seed_2/RES_PPO_seed_2-episode-175.mp4\n",
      "\n"
     ]
    },
    {
     "name": "stderr",
     "output_type": "stream",
     "text": [
      "                                                                 \r"
     ]
    },
    {
     "name": "stdout",
     "output_type": "stream",
     "text": [
      "Moviepy - Done !\n",
      "Moviepy - video ready /home/flowers/Desktop/python/tests/Swimmer-v4_CPG_test/seed_2/RES_PPO_seed_2-episode-175.mp4\n",
      "Moviepy - Building video /home/flowers/Desktop/python/tests/Swimmer-v4_CPG_test/seed_2/RES_PPO_seed_2-episode-200.mp4.\n",
      "Moviepy - Writing video /home/flowers/Desktop/python/tests/Swimmer-v4_CPG_test/seed_2/RES_PPO_seed_2-episode-200.mp4\n",
      "\n"
     ]
    },
    {
     "name": "stderr",
     "output_type": "stream",
     "text": [
      "                                                                \r"
     ]
    },
    {
     "name": "stdout",
     "output_type": "stream",
     "text": [
      "Moviepy - Done !\n",
      "Moviepy - video ready /home/flowers/Desktop/python/tests/Swimmer-v4_CPG_test/seed_2/RES_PPO_seed_2-episode-200.mp4\n",
      "Moviepy - Building video /home/flowers/Desktop/python/tests/Swimmer-v4_CPG_test/seed_2/RES_PPO_seed_2-episode-225.mp4.\n",
      "Moviepy - Writing video /home/flowers/Desktop/python/tests/Swimmer-v4_CPG_test/seed_2/RES_PPO_seed_2-episode-225.mp4\n",
      "\n"
     ]
    },
    {
     "name": "stderr",
     "output_type": "stream",
     "text": [
      "                                                                \r"
     ]
    },
    {
     "name": "stdout",
     "output_type": "stream",
     "text": [
      "Moviepy - Done !\n",
      "Moviepy - video ready /home/flowers/Desktop/python/tests/Swimmer-v4_CPG_test/seed_2/RES_PPO_seed_2-episode-225.mp4\n",
      "Moviepy - Building video /home/flowers/Desktop/python/tests/Swimmer-v4_CPG_test/seed_2/RES_PPO_seed_2-episode-250.mp4.\n",
      "Moviepy - Writing video /home/flowers/Desktop/python/tests/Swimmer-v4_CPG_test/seed_2/RES_PPO_seed_2-episode-250.mp4\n",
      "\n"
     ]
    },
    {
     "name": "stderr",
     "output_type": "stream",
     "text": [
      "                                                                \r"
     ]
    },
    {
     "name": "stdout",
     "output_type": "stream",
     "text": [
      "Moviepy - Done !\n",
      "Moviepy - video ready /home/flowers/Desktop/python/tests/Swimmer-v4_CPG_test/seed_2/RES_PPO_seed_2-episode-250.mp4\n",
      "Moviepy - Building video /home/flowers/Desktop/python/tests/Swimmer-v4_CPG_test/seed_2/RES_PPO_seed_2-episode-275.mp4.\n",
      "Moviepy - Writing video /home/flowers/Desktop/python/tests/Swimmer-v4_CPG_test/seed_2/RES_PPO_seed_2-episode-275.mp4\n",
      "\n"
     ]
    },
    {
     "name": "stderr",
     "output_type": "stream",
     "text": [
      "                                                                \r"
     ]
    },
    {
     "name": "stdout",
     "output_type": "stream",
     "text": [
      "Moviepy - Done !\n",
      "Moviepy - video ready /home/flowers/Desktop/python/tests/Swimmer-v4_CPG_test/seed_2/RES_PPO_seed_2-episode-275.mp4\n",
      "Moviepy - Building video /home/flowers/Desktop/python/tests/Swimmer-v4_CPG_test/seed_2/RES_PPO_seed_2-episode-300.mp4.\n",
      "Moviepy - Writing video /home/flowers/Desktop/python/tests/Swimmer-v4_CPG_test/seed_2/RES_PPO_seed_2-episode-300.mp4\n",
      "\n"
     ]
    },
    {
     "name": "stderr",
     "output_type": "stream",
     "text": [
      "                                                                 \r"
     ]
    },
    {
     "name": "stdout",
     "output_type": "stream",
     "text": [
      "Moviepy - Done !\n",
      "Moviepy - video ready /home/flowers/Desktop/python/tests/Swimmer-v4_CPG_test/seed_2/RES_PPO_seed_2-episode-300.mp4\n",
      "Moviepy - Building video /home/flowers/Desktop/python/tests/Swimmer-v4_CPG_test/seed_2/RES_PPO_seed_2-episode-325.mp4.\n",
      "Moviepy - Writing video /home/flowers/Desktop/python/tests/Swimmer-v4_CPG_test/seed_2/RES_PPO_seed_2-episode-325.mp4\n",
      "\n"
     ]
    },
    {
     "name": "stderr",
     "output_type": "stream",
     "text": [
      "                                                                \r"
     ]
    },
    {
     "name": "stdout",
     "output_type": "stream",
     "text": [
      "Moviepy - Done !\n",
      "Moviepy - video ready /home/flowers/Desktop/python/tests/Swimmer-v4_CPG_test/seed_2/RES_PPO_seed_2-episode-325.mp4\n",
      "Moviepy - Building video /home/flowers/Desktop/python/tests/Swimmer-v4_CPG_test/seed_2/RES_PPO_seed_2-episode-350.mp4.\n",
      "Moviepy - Writing video /home/flowers/Desktop/python/tests/Swimmer-v4_CPG_test/seed_2/RES_PPO_seed_2-episode-350.mp4\n",
      "\n"
     ]
    },
    {
     "name": "stderr",
     "output_type": "stream",
     "text": [
      "                                                                \r"
     ]
    },
    {
     "name": "stdout",
     "output_type": "stream",
     "text": [
      "Moviepy - Done !\n",
      "Moviepy - video ready /home/flowers/Desktop/python/tests/Swimmer-v4_CPG_test/seed_2/RES_PPO_seed_2-episode-350.mp4\n",
      "Moviepy - Building video /home/flowers/Desktop/python/tests/Swimmer-v4_CPG_test/seed_2/RES_PPO_seed_2-episode-375.mp4.\n",
      "Moviepy - Writing video /home/flowers/Desktop/python/tests/Swimmer-v4_CPG_test/seed_2/RES_PPO_seed_2-episode-375.mp4\n",
      "\n"
     ]
    },
    {
     "name": "stderr",
     "output_type": "stream",
     "text": [
      "                                                                \r"
     ]
    },
    {
     "name": "stdout",
     "output_type": "stream",
     "text": [
      "Moviepy - Done !\n",
      "Moviepy - video ready /home/flowers/Desktop/python/tests/Swimmer-v4_CPG_test/seed_2/RES_PPO_seed_2-episode-375.mp4\n",
      "Moviepy - Building video /home/flowers/Desktop/python/tests/Swimmer-v4_CPG_test/seed_2/RES_PPO_seed_2-episode-400.mp4.\n",
      "Moviepy - Writing video /home/flowers/Desktop/python/tests/Swimmer-v4_CPG_test/seed_2/RES_PPO_seed_2-episode-400.mp4\n",
      "\n"
     ]
    },
    {
     "name": "stderr",
     "output_type": "stream",
     "text": [
      "                                                                 \r"
     ]
    },
    {
     "name": "stdout",
     "output_type": "stream",
     "text": [
      "Moviepy - Done !\n",
      "Moviepy - video ready /home/flowers/Desktop/python/tests/Swimmer-v4_CPG_test/seed_2/RES_PPO_seed_2-episode-400.mp4\n",
      "Moviepy - Building video /home/flowers/Desktop/python/tests/Swimmer-v4_CPG_test/seed_2/RES_PPO_seed_2-episode-425.mp4.\n",
      "Moviepy - Writing video /home/flowers/Desktop/python/tests/Swimmer-v4_CPG_test/seed_2/RES_PPO_seed_2-episode-425.mp4\n",
      "\n"
     ]
    },
    {
     "name": "stderr",
     "output_type": "stream",
     "text": [
      "                                                                \r"
     ]
    },
    {
     "name": "stdout",
     "output_type": "stream",
     "text": [
      "Moviepy - Done !\n",
      "Moviepy - video ready /home/flowers/Desktop/python/tests/Swimmer-v4_CPG_test/seed_2/RES_PPO_seed_2-episode-425.mp4\n",
      "Moviepy - Building video /home/flowers/Desktop/python/tests/Swimmer-v4_CPG_test/seed_2/RES_PPO_seed_2-episode-450.mp4.\n",
      "Moviepy - Writing video /home/flowers/Desktop/python/tests/Swimmer-v4_CPG_test/seed_2/RES_PPO_seed_2-episode-450.mp4\n",
      "\n"
     ]
    },
    {
     "name": "stderr",
     "output_type": "stream",
     "text": [
      "                                                                \r"
     ]
    },
    {
     "name": "stdout",
     "output_type": "stream",
     "text": [
      "Moviepy - Done !\n",
      "Moviepy - video ready /home/flowers/Desktop/python/tests/Swimmer-v4_CPG_test/seed_2/RES_PPO_seed_2-episode-450.mp4\n",
      "Moviepy - Building video /home/flowers/Desktop/python/tests/Swimmer-v4_CPG_test/seed_2/RES_PPO_seed_2-episode-475.mp4.\n",
      "Moviepy - Writing video /home/flowers/Desktop/python/tests/Swimmer-v4_CPG_test/seed_2/RES_PPO_seed_2-episode-475.mp4\n",
      "\n"
     ]
    },
    {
     "name": "stderr",
     "output_type": "stream",
     "text": [
      "                                                                \r"
     ]
    },
    {
     "name": "stdout",
     "output_type": "stream",
     "text": [
      "Moviepy - Done !\n",
      "Moviepy - video ready /home/flowers/Desktop/python/tests/Swimmer-v4_CPG_test/seed_2/RES_PPO_seed_2-episode-475.mp4\n",
      "Moviepy - Building video /home/flowers/Desktop/python/tests/Swimmer-v4_CPG_test/seed_2/RES_PPO_seed_2-episode-500.mp4.\n",
      "Moviepy - Writing video /home/flowers/Desktop/python/tests/Swimmer-v4_CPG_test/seed_2/RES_PPO_seed_2-episode-500.mp4\n",
      "\n"
     ]
    },
    {
     "name": "stderr",
     "output_type": "stream",
     "text": [
      "                                                                \r"
     ]
    },
    {
     "name": "stdout",
     "output_type": "stream",
     "text": [
      "Moviepy - Done !\n",
      "Moviepy - video ready /home/flowers/Desktop/python/tests/Swimmer-v4_CPG_test/seed_2/RES_PPO_seed_2-episode-500.mp4\n",
      "Moviepy - Building video /home/flowers/Desktop/python/tests/Swimmer-v4_CPG_test/seed_2/RES_PPO_seed_2-episode-525.mp4.\n",
      "Moviepy - Writing video /home/flowers/Desktop/python/tests/Swimmer-v4_CPG_test/seed_2/RES_PPO_seed_2-episode-525.mp4\n",
      "\n"
     ]
    },
    {
     "name": "stderr",
     "output_type": "stream",
     "text": [
      "                                                                \r"
     ]
    },
    {
     "name": "stdout",
     "output_type": "stream",
     "text": [
      "Moviepy - Done !\n",
      "Moviepy - video ready /home/flowers/Desktop/python/tests/Swimmer-v4_CPG_test/seed_2/RES_PPO_seed_2-episode-525.mp4\n",
      "Moviepy - Building video /home/flowers/Desktop/python/tests/Swimmer-v4_CPG_test/seed_2/RES_PPO_seed_2-episode-550.mp4.\n",
      "Moviepy - Writing video /home/flowers/Desktop/python/tests/Swimmer-v4_CPG_test/seed_2/RES_PPO_seed_2-episode-550.mp4\n",
      "\n"
     ]
    },
    {
     "name": "stderr",
     "output_type": "stream",
     "text": [
      "                                                                 \r"
     ]
    },
    {
     "name": "stdout",
     "output_type": "stream",
     "text": [
      "Moviepy - Done !\n",
      "Moviepy - video ready /home/flowers/Desktop/python/tests/Swimmer-v4_CPG_test/seed_2/RES_PPO_seed_2-episode-550.mp4\n",
      "Moviepy - Building video /home/flowers/Desktop/python/tests/Swimmer-v4_CPG_test/seed_2/RES_PPO_seed_2-episode-575.mp4.\n",
      "Moviepy - Writing video /home/flowers/Desktop/python/tests/Swimmer-v4_CPG_test/seed_2/RES_PPO_seed_2-episode-575.mp4\n",
      "\n"
     ]
    },
    {
     "name": "stderr",
     "output_type": "stream",
     "text": [
      "                                                                \r"
     ]
    },
    {
     "name": "stdout",
     "output_type": "stream",
     "text": [
      "Moviepy - Done !\n",
      "Moviepy - video ready /home/flowers/Desktop/python/tests/Swimmer-v4_CPG_test/seed_2/RES_PPO_seed_2-episode-575.mp4\n",
      "Seed 2 done\n",
      "Training done in 1:49:15.856102\n"
     ]
    }
   ],
   "source": [
    "# Training procedure with the chosen parameters (env_id, nb_seeds ...)\n",
    "start = time.time()\n",
    "\n",
    "for seed in range(nb_seeds):\n",
    "        for i, model_name in enumerate(models):\n",
    "\n",
    "                checkpoint_callback = CheckpointCallback(\n",
    "                                                save_freq=10000,\n",
    "                                                save_path=models_dir,\n",
    "                                                name_prefix=f\"{model_name}_seed_{seed}\"\n",
    "                                                )\n",
    "\n",
    "                env = gym.make(env_id, render_mode=\"rgb_array\")\n",
    "                env = CollectObs_Wrapper(env)\n",
    "                \n",
    "                if model_name.startswith('RES'):\n",
    "                        env = ReservoirWrapper(env, seed=seed, reset_res=reset_res, skip_c=skip_c, **best_params)\n",
    "                        env = CollectContext_Wrapper(env)\n",
    "                \n",
    "                # Record the video of agents\n",
    "                env = RecordVideoV0(env, video_folder=f\"Swimmer-v4_{h_test}/seed_{seed}\", episode_trigger = lambda x: x % 25 == 0 and x <600, name_prefix=f\"{model_name}_seed_{seed}\")\n",
    "\n",
    "                \n",
    "                model = PPO('MlpPolicy', env, verbose=0, tensorboard_log=logdir, seed=seed)\n",
    "                model.learn(total_timesteps=training_timesteps, tb_log_name=f\"{model_name}_{int(training_timesteps/1000)}k_steps_seed_{seed}\")\n",
    "                model.save(f\"{models_dir}/{model_name}_{int(training_timesteps/1000)}k_steps_seed_{seed}\")\n",
    "                \n",
    "                # Save observations\n",
    "                obs_file = f\"{model_name}_obs_seed_{seed}.npy\"\n",
    "                observation_history = np.array(env.observations_history)\n",
    "                np.save(os.path.join(files_dir, obs_file), observation_history)\n",
    "                \n",
    "                if model_name.startswith('RES'):\n",
    "                        # Save reservoir context\n",
    "                        context_history = np.array(env.contexts_history)\n",
    "                        context_file = f\"{model_name}_context_seed_{seed}.npy\"\n",
    "                        np.save(os.path.join(files_dir, context_file), context_history)\n",
    "\n",
    "                        # Save ER-MRL agent action\n",
    "                        action_file = f\"{model_name}_res_ppo_action_seed_{seed}.npy\"\n",
    "                        action_history = np.array(env.actions_history)\n",
    "                        np.save(os.path.join(files_dir, action_file), action_history)\n",
    "                else:\n",
    "                        # Save classical RL agent action\n",
    "                        action_file = f\"{model_name}_ppo_action_seed_{seed}.npy\"\n",
    "                        action_history = np.array(env.actions_history)\n",
    "                        np.save(os.path.join(files_dir, action_file), action_history)\n",
    "\n",
    "        print(f\"Seed {seed} done\")\n",
    "\n",
    "end = time.time()\n",
    "print(f\"Training done in {str(datetime.timedelta(seconds=end-start))}\")\n",
    "\n",
    "truncated_history = np.array(env.truncated_history)\n",
    "dones = np.squeeze(np.where(truncated_history == True))\n",
    "\n",
    "file_name = \"dones.npy\"\n",
    "np.save(os.path.join(files_dir, file_name), dones)"
   ]
  },
  {
   "cell_type": "code",
   "execution_count": 11,
   "id": "b0decab5",
   "metadata": {},
   "outputs": [
    {
     "name": "stdout",
     "output_type": "stream",
     "text": [
      "\n",
      "seed 0\n",
      "PPO\n",
      "obs shape: (1001472, 8)\n",
      "action shape: (1001472, 2)\n",
      "RES_PPO\n",
      "obs shape: (1001472, 8)\n",
      "ctx shape: (1001472, 100)\n",
      "action shape: (1001472, 2)\n",
      "\n",
      "seed 1\n",
      "PPO\n",
      "obs shape: (1001472, 8)\n",
      "action shape: (1001472, 2)\n",
      "RES_PPO\n",
      "obs shape: (1001472, 8)\n",
      "ctx shape: (1001472, 100)\n",
      "action shape: (1001472, 2)\n",
      "\n",
      "seed 2\n",
      "PPO\n",
      "obs shape: (1001472, 8)\n",
      "action shape: (1001472, 2)\n",
      "RES_PPO\n",
      "obs shape: (1001472, 8)\n",
      "ctx shape: (1001472, 100)\n",
      "action shape: (1001472, 2)\n"
     ]
    }
   ],
   "source": [
    "for seed in range(nb_seeds):\n",
    "    print(f\"\\nseed {seed}\")\n",
    "    for model_name in models:\n",
    "        print(f\"{model_name}\")\n",
    "        obs_file = f\"{model_name}_obs_seed_{seed}.npy\"\n",
    "        loaded_obs_file = np.load(os.path.join(files_dir, obs_file))\n",
    "        print(f\"obs shape: {loaded_obs_file.shape}\")\n",
    "        if model_name.startswith('RES'):\n",
    "            context_file = f\"{model_name}_context_seed_{seed}.npy\"\n",
    "            loaded_ctx_file = np.load(os.path.join(files_dir, context_file))\n",
    "            print(f\"ctx shape: {loaded_ctx_file.shape}\")\n",
    "            action_file = f\"{model_name}_res_ppo_action_seed_{seed}.npy\"\n",
    "            loaded_action_file = np.load(os.path.join(files_dir, action_file))\n",
    "            print(f\"action shape: {loaded_action_file.shape}\")\n",
    "        else:\n",
    "            action_file = f\"{model_name}_ppo_action_seed_{seed}.npy\"\n",
    "            loaded_action_file = np.load(os.path.join(files_dir, action_file))\n",
    "            print(f\"action shape: {loaded_action_file.shape}\")\n"
   ]
  },
  {
   "cell_type": "code",
   "execution_count": 17,
   "id": "24fec47e",
   "metadata": {},
   "outputs": [
    {
     "data": {
      "image/png": "[encoded data removed]",
      "text/plain": [
       "<Figure size 1500x600 with 1 Axes>"
      ]
     },
     "metadata": {},
     "output_type": "display_data"
    }
   ],
   "source": [
    "plot_results(exp_name, logdir, models, nb_seeds=3)"
   ]
  }
 ],
 "metadata": {
  "kernelspec": {
   "display_name": "Python 3 (ipykernel)",
   "language": "python",
   "name": "python3"
  },
  "language_info": {
   "codemirror_mode": {
    "name": "ipython",
    "version": 3
   },
   "file_extension": ".py",
   "mimetype": "text/x-python",
   "name": "python",
   "nbconvert_exporter": "python",
   "pygments_lexer": "ipython3",
   "version": "3.10.6"
  }
 },
 "nbformat": 4,
 "nbformat_minor": 5
}
